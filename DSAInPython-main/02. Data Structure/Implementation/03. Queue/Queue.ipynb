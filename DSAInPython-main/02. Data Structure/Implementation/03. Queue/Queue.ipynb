{
 "cells": [
  {
   "cell_type": "markdown",
   "id": "69a8b751",
   "metadata": {},
   "source": [
    "<center><h1>Queue</h1></center>"
   ]
  },
  {
   "cell_type": "markdown",
   "id": "9c306c70",
   "metadata": {},
   "source": [
    "<h3>Queue in Python can be implemented by the following ways:</h3>\n",
    "    <li>list</li>\n",
    "    <li>collections.deque</li>\n",
    "    <li>queue.Queue</li>"
   ]
  },
  {
   "cell_type": "markdown",
   "id": "44d69d7a",
   "metadata": {},
   "source": [
    "# Queue using List"
   ]
  },
  {
   "cell_type": "code",
   "execution_count": 36,
   "id": "e9ee3089",
   "metadata": {},
   "outputs": [
    {
     "name": "stdout",
     "output_type": "stream",
     "text": [
      "Initial queue: []\n",
      "Elements enqueued to queue: ['a', 'b', 'c']\n",
      "Elements dequeued from queue\n",
      "a\n",
      "b\n",
      "c\n",
      "Queue after removing elements: []\n"
     ]
    }
   ],
   "source": [
    "queue = []\n",
    "\n",
    "print(\"Initial queue: \",end=\"\")\n",
    "print(queue)\n",
    "\n",
    "queue.append('a')\n",
    "queue.append('b')\n",
    "queue.append('c')\n",
    "\n",
    "print(\"Elements enqueued to queue: \",end=\"\")\n",
    "print(queue)\n",
    "\n",
    "print(\"Elements dequeued from queue\")\n",
    "print(queue.pop(0))\n",
    "print(queue.pop(0))\n",
    "print(queue.pop(0))\n",
    "\n",
    "print(\"Queue after removing elements: \",end=\"\")\n",
    "print(queue)\n"
   ]
  },
  {
   "cell_type": "markdown",
   "id": "daff2a11",
   "metadata": {},
   "source": [
    "# Implementation using collections.deque"
   ]
  },
  {
   "cell_type": "code",
   "execution_count": 38,
   "id": "fff7483d",
   "metadata": {},
   "outputs": [
    {
     "name": "stdout",
     "output_type": "stream",
     "text": [
      "Initial queue: deque([])\n",
      "Elements enqueued to queue: deque(['a', 'b', 'c'])\n",
      "Elements dequeued from the queue\n",
      "a\n",
      "b\n",
      "c\n",
      "Queue after removing elements: deque([])\n"
     ]
    }
   ],
   "source": [
    "from collections import deque\n",
    "\n",
    "q = deque()\n",
    "\n",
    "\n",
    "print(\"Initial queue: \",end =\"\")\n",
    "print(q)\n",
    "\n",
    "q.append('a')\n",
    "q.append('b')\n",
    "q.append('c')\n",
    "\n",
    "print(\"Elements enqueued to queue: \",end=\"\")\n",
    "print(q)\n",
    "\n",
    "print(\"Elements dequeued from the queue\")\n",
    "print(q.popleft())\n",
    "print(q.popleft())\n",
    "print(q.popleft())\n",
    "\n",
    "print(\"Queue after removing elements: \",end=\"\")\n",
    "print(q)"
   ]
  },
  {
   "cell_type": "markdown",
   "id": "9899e4d3",
   "metadata": {},
   "source": [
    "# Implementation using queue.Queue"
   ]
  },
  {
   "cell_type": "code",
   "execution_count": 44,
   "id": "477ed899",
   "metadata": {},
   "outputs": [
    {
     "name": "stdout",
     "output_type": "stream",
     "text": [
      "0\n",
      "Full:  True\n",
      "Elements dequeued from the queue\n",
      "a\n",
      "b\n",
      "c\n",
      "Empty:  True\n",
      "Empty:  False\n",
      "Full:  False\n"
     ]
    }
   ],
   "source": [
    "from queue import Queue\n",
    "\n",
    "q = Queue(maxsize = 3)\n",
    "\n",
    "print(q.qsize())\n",
    "\n",
    "q.put('a')\n",
    "q.put('b')\n",
    "q.put('c')\n",
    "\n",
    "print(\"Full: \", q.full())\n",
    "\n",
    "print(\"Elements dequeued from the queue\")\n",
    "print(q.get())\n",
    "print(q.get())\n",
    "print(q.get())\n",
    "\n",
    "print(\"Empty: \", q.empty())\n",
    "\n",
    "q.put(1)\n",
    "print(\"Empty: \", q.empty())\n",
    "print(\"Full: \", q.full())"
   ]
  },
  {
   "cell_type": "markdown",
   "id": "b4fdb02c",
   "metadata": {},
   "source": [
    "# Queue using Array"
   ]
  },
  {
   "cell_type": "code",
   "execution_count": 27,
   "id": "e3c687f3",
   "metadata": {},
   "outputs": [
    {
     "name": "stdout",
     "output_type": "stream",
     "text": [
      "Elements before Enqueue: Queue is Empty\n",
      "Elements After Enqueue: ['a', 'b', 'c']\n",
      "Dequeued Element is :  a\n",
      "Dequeued Element is :  b\n",
      "Dequeued Element is :  c\n",
      "Elements After Dequeue: Queue is Empty\n"
     ]
    }
   ],
   "source": [
    "class Queue:\n",
    "    def __init__(self, limit=3):\n",
    "        self.limit = limit\n",
    "        self.items = []\n",
    "\n",
    "    def isQueueEmpty(self):\n",
    "        return self.items == []\n",
    "\n",
    "    def isQueueFull(self):\n",
    "        return len(self.items) == self.limit\n",
    "\n",
    "    def enqueue(self, data):\n",
    "        if self.isQueueFull():\n",
    "            print(\"Queue is Full\")\n",
    "            return\n",
    "        self.items.append(data)\n",
    "\n",
    "    def dequeue(self):\n",
    "        if self.isQueueEmpty():\n",
    "            print(\"Queue is Empty\")\n",
    "            return\n",
    "        return print(\"Dequeued Element is : \", self.items.pop(0))\n",
    "\n",
    "    def peek(self):\n",
    "        if self.isQueueEmpty():\n",
    "            return print(\"Queue is Empty\")\n",
    "        return print(\"Peek Element is : \", self.items[0])\n",
    "\n",
    "    def size(self):\n",
    "        return print(\"Queue size is: \", len(self.items))\n",
    "\n",
    "    def display(self):\n",
    "        if self.isQueueEmpty():\n",
    "            print(\"Queue is Empty\")\n",
    "            return\n",
    "        print(self.items)\n",
    "\n",
    "\n",
    "q = Queue(3)\n",
    "print(\"Elements before Enqueue: \",end=\"\")\n",
    "q.display()\n",
    "q.enqueue('a')\n",
    "q.enqueue('b')\n",
    "q.enqueue('c')\n",
    "print(\"Elements After Enqueue: \",end=\"\")\n",
    "q.display()\n",
    "q.dequeue()\n",
    "q.dequeue()\n",
    "q.dequeue()\n",
    "print(\"Elements After Dequeue: \",end=\"\")\n",
    "q.display()\n",
    "\n"
   ]
  },
  {
   "cell_type": "markdown",
   "id": "fc62d911",
   "metadata": {},
   "source": [
    "# Queue using Array Improved"
   ]
  },
  {
   "cell_type": "code",
   "execution_count": 28,
   "id": "c003698a",
   "metadata": {},
   "outputs": [
    {
     "name": "stdout",
     "output_type": "stream",
     "text": [
      "Elements before Enqueue: Queue is Empty\n",
      "Elements After Enqueue: ['a', 'b', 'c']\n",
      "Dequeued Element is :  a\n",
      "Dequeued Element is :  b\n",
      "Dequeued Element is :  c\n",
      "Elements After Dequeue: Queue is Empty\n"
     ]
    }
   ],
   "source": [
    "class Queue:\n",
    "    def __init__(self, limit=3):\n",
    "        self.limit = limit\n",
    "        self.items = []\n",
    "        self.front = 0\n",
    "\n",
    "    def isQueueEmpty(self):\n",
    "        return self.front == len(self.items)\n",
    "\n",
    "    def isQueueFull(self):\n",
    "        return self.size() == self.limit\n",
    "\n",
    "    def enqueue(self, data):\n",
    "        if self.isQueueFull():\n",
    "            print(\"Queue is Full\")\n",
    "            return\n",
    "        self.items.append(data)\n",
    "\n",
    "    def dequeue(self):\n",
    "        if self.isQueueEmpty():\n",
    "            print(\"Queue is Empty\")\n",
    "            return\n",
    "        x = self.items[self.front]\n",
    "        self.items[self.front] = None\n",
    "        self.front += 1\n",
    "        return print(\"Dequeued Element is : \", x)\n",
    "\n",
    "    def peek(self):\n",
    "        if self.isQueueEmpty():\n",
    "            return print(\"Queue is Empty\")\n",
    "        return print(\"Peek Element is : \", self.items[self.front])\n",
    "\n",
    "    def size(self):\n",
    "        return len(self.items) - self.front\n",
    "\n",
    "    def display(self):\n",
    "        if self.isQueueEmpty():\n",
    "            print(\"Queue is Empty\")\n",
    "            return\n",
    "        print(self.items[self.front : ])\n",
    "\n",
    "\n",
    "q = Queue(3)\n",
    "\n",
    "q = Queue(3)\n",
    "print(\"Elements before Enqueue: \",end=\"\")\n",
    "q.display()\n",
    "q.enqueue('a')\n",
    "q.enqueue('b')\n",
    "q.enqueue('c')\n",
    "print(\"Elements After Enqueue: \",end=\"\")\n",
    "q.display()\n",
    "q.dequeue()\n",
    "q.dequeue()\n",
    "q.dequeue()\n",
    "print(\"Elements After Dequeue: \",end=\"\")\n",
    "q.display()"
   ]
  },
  {
   "cell_type": "markdown",
   "id": "5caa4d30",
   "metadata": {},
   "source": [
    "# Circular Queue"
   ]
  },
  {
   "cell_type": "code",
   "execution_count": 29,
   "id": "9cbf5185",
   "metadata": {},
   "outputs": [
    {
     "name": "stdout",
     "output_type": "stream",
     "text": [
      "Elements before Enqueue: [None, None, None]\n",
      "Elements After Enqueue: ['a', 'b', 'c']\n",
      "Dequeued Element is :  a\n",
      "Dequeued Element is :  b\n",
      "Dequeued Element is :  c\n",
      "Elements After Dequeue: [None, None, None]\n"
     ]
    }
   ],
   "source": [
    "class Queue:\n",
    "    def __init__(self, limit = 5):\n",
    "        self.items = [None] * limit\n",
    "        self.front = 0\n",
    "        self.count = 0\n",
    "\n",
    "    def isQueueEmpty(self):\n",
    "        return self.count == 0\n",
    "\n",
    "    def isQueueFull(self):\n",
    "        return self.count == len(self.items)\n",
    "\n",
    "    def enqueue(self,item):\n",
    "        if self.isQueueFull():\n",
    "            self.resize( 2*len(self.items) )\n",
    "        i = (self.front + self.count) % len(self.items)\n",
    "        self.items[i] = item\n",
    "        self.count += 1\n",
    "\n",
    "    def dequeue(self):\n",
    "        if self.isQueueEmpty():\n",
    "            print(\"Queue is Empty\")\n",
    "            return\n",
    "        x = self.items[self.front]\n",
    "        self.items[self.front] = None\n",
    "\n",
    "        self.front = (self.front + 1) % len(self.items)\n",
    "        self.count -= 1\n",
    "        return print(\"Dequeued Element is : \", x)\n",
    "\n",
    "    def peek(self):\n",
    "        if self.isQueueEmpty():\n",
    "            return print(\"Queue is Empty\")\n",
    "        return print(\"Peek Element is : \", self.items[self.front])\n",
    "\n",
    "    def size(self):\n",
    "        return self.count\n",
    "\n",
    "    def display(self):\n",
    "        print(self.items)\n",
    "\n",
    "    def resize(self, newsize):\n",
    "        old_list = self.items\n",
    "        self.items = [None] * newsize\n",
    "        i = self.front\n",
    "        for j in range(self.count):\n",
    "            self.items[j] = old_list[i]\n",
    "            i = (i+1) % len(old_list)\n",
    "        self.front = 0\n",
    "\n",
    "q = Queue(3)\n",
    "\n",
    "q = Queue(3)\n",
    "print(\"Elements before Enqueue: \",end=\"\")\n",
    "q.display()\n",
    "q.enqueue('a')\n",
    "q.enqueue('b')\n",
    "q.enqueue('c')\n",
    "print(\"Elements After Enqueue: \",end=\"\")\n",
    "q.display()\n",
    "q.dequeue()\n",
    "q.dequeue()\n",
    "q.dequeue()\n",
    "print(\"Elements After Dequeue: \",end=\"\")\n",
    "q.display()"
   ]
  },
  {
   "cell_type": "code",
   "execution_count": null,
   "id": "a1ca0894",
   "metadata": {},
   "outputs": [],
   "source": []
  }
 ],
 "metadata": {
  "kernelspec": {
   "display_name": "Python 3 (ipykernel)",
   "language": "python",
   "name": "python3"
  },
  "language_info": {
   "codemirror_mode": {
    "name": "ipython",
    "version": 3
   },
   "file_extension": ".py",
   "mimetype": "text/x-python",
   "name": "python",
   "nbconvert_exporter": "python",
   "pygments_lexer": "ipython3",
   "version": "3.10.4"
  }
 },
 "nbformat": 4,
 "nbformat_minor": 5
}
