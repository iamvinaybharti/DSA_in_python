{
 "cells": [
  {
   "cell_type": "markdown",
   "id": "7c553c9f",
   "metadata": {},
   "source": [
    "# Linear Search"
   ]
  },
  {
   "cell_type": "code",
   "execution_count": 6,
   "id": "b442989a",
   "metadata": {},
   "outputs": [
    {
     "name": "stdout",
     "output_type": "stream",
     "text": [
      "65 found at index: 2\n"
     ]
    }
   ],
   "source": [
    "list1 = [21,34,65,67,23]\n",
    "data = 65\n",
    "for i in range(len(list1)):\n",
    "    if list1[i] == data:\n",
    "        print(data,\"found at index:\",i)\n",
    "        break"
   ]
  },
  {
   "cell_type": "markdown",
   "id": "1476b9a9",
   "metadata": {},
   "source": [
    "# Binary Search (iterative)"
   ]
  },
  {
   "cell_type": "code",
   "execution_count": 10,
   "id": "c3719464",
   "metadata": {},
   "outputs": [
    {
     "name": "stdout",
     "output_type": "stream",
     "text": [
      "4 Found\n"
     ]
    }
   ],
   "source": [
    "list1 = [1,2,3,4,5]\n",
    "data = 4\n",
    "flag = 0\n",
    "low = 0\n",
    "high = len(list1)-1\n",
    "while low<=high:\n",
    "    mid = (low+high)//2\n",
    "    if list1[mid] == data:\n",
    "        flag = 1\n",
    "        break\n",
    "    elif data < list1[mid]:\n",
    "        high = mid-1\n",
    "    else:\n",
    "        low = mid+1\n",
    "if flag == 1:\n",
    "    print(data,\"Found\")\n",
    "else:\n",
    "    print(data,\"Not Found\")"
   ]
  },
  {
   "cell_type": "markdown",
   "id": "f68430d7",
   "metadata": {},
   "source": [
    "# Binary Search (Recursive)"
   ]
  },
  {
   "cell_type": "code",
   "execution_count": 42,
   "id": "31f5067a",
   "metadata": {},
   "outputs": [
    {
     "name": "stdout",
     "output_type": "stream",
     "text": [
      "3\n"
     ]
    }
   ],
   "source": [
    "def binsearch(lst, low, high, key):\n",
    "    if low > high:\n",
    "        return -1\n",
    "    mid = (low+high)//2\n",
    "    if key < lst[mid]:\n",
    "        return binsearch(lst, low, mid-1, key)\n",
    "    elif key > lst[mid]:\n",
    "        return binsearch(lst, mid+1, high, key)\n",
    "    else:\n",
    "        return mid\n",
    "    \n",
    "lst = [1,2,3,4,5]\n",
    "key = 4\n",
    "print(binsearch(lst, 0, len(lst), key))"
   ]
  },
  {
   "cell_type": "code",
   "execution_count": null,
   "id": "fa10e609",
   "metadata": {},
   "outputs": [],
   "source": []
  }
 ],
 "metadata": {
  "kernelspec": {
   "display_name": "Python 3 (ipykernel)",
   "language": "python",
   "name": "python3"
  },
  "language_info": {
   "codemirror_mode": {
    "name": "ipython",
    "version": 3
   },
   "file_extension": ".py",
   "mimetype": "text/x-python",
   "name": "python",
   "nbconvert_exporter": "python",
   "pygments_lexer": "ipython3",
   "version": "3.10.4"
  }
 },
 "nbformat": 4,
 "nbformat_minor": 5
}
