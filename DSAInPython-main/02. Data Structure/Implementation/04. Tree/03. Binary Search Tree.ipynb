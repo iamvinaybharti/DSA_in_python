{
 "cells": [
  {
   "cell_type": "markdown",
   "id": "492c11c5",
   "metadata": {},
   "source": [
    "<center><h1>Binary Search Tree</h1></center>"
   ]
  },
  {
   "cell_type": "code",
   "execution_count": 8,
   "id": "3424c4a2",
   "metadata": {},
   "outputs": [
    {
     "name": "stdout",
     "output_type": "stream",
     "text": [
      "5\n"
     ]
    }
   ],
   "source": [
    "class BST:\n",
    "    def __init__(self, key):\n",
    "        self.key = key\n",
    "        self.lchild = None\n",
    "        self.rchild = None\n",
    "        \n",
    "root = BST(10)\n",
    "root.lchild = BST(5)\n",
    "        \n",
    "print(root.lchild.key)"
   ]
  },
  {
   "cell_type": "markdown",
   "id": "b0d16798",
   "metadata": {},
   "source": [
    "# Insertion"
   ]
  },
  {
   "cell_type": "code",
   "execution_count": 10,
   "id": "3de393c3",
   "metadata": {},
   "outputs": [],
   "source": [
    "class BST:\n",
    "    def __init__(self, key):\n",
    "        self.key = key\n",
    "        self.lchild = None\n",
    "        self.rchild = None\n",
    "        \n",
    "    def insert(self, data):\n",
    "        if self.key == data:\n",
    "            return\n",
    "        if self.key is None:\n",
    "            self.key = data\n",
    "            return\n",
    "        if self.key > data:\n",
    "            if self.lchild:\n",
    "                self.lchild.insert(data)\n",
    "            else:\n",
    "                self.lchild = BST(data) \n",
    "        else:\n",
    "            if self.rchild:\n",
    "                self.rchild.insert(data)\n",
    "            else:\n",
    "                self.rchild = BST(data)\n",
    "            \n",
    "        \n",
    "root = BST(None)\n",
    "root.insert(10)"
   ]
  },
  {
   "cell_type": "markdown",
   "id": "19c130a2",
   "metadata": {},
   "source": [
    "# Traversal - Preorder"
   ]
  },
  {
   "cell_type": "code",
   "execution_count": 23,
   "id": "432fdeaf",
   "metadata": {},
   "outputs": [
    {
     "name": "stdout",
     "output_type": "stream",
     "text": [
      "10 1 2 34 45 67 "
     ]
    }
   ],
   "source": [
    "class BST:\n",
    "    def __init__(self, key):\n",
    "        self.key = key\n",
    "        self.lchild = None\n",
    "        self.rchild = None\n",
    "        \n",
    "    def insert(self, data):\n",
    "        if self.key == data:\n",
    "            return\n",
    "        if self.key is None:\n",
    "            self.key = data\n",
    "            return\n",
    "        if self.key > data:\n",
    "            if self.lchild:\n",
    "                self.lchild.insert(data)\n",
    "            else:\n",
    "                self.lchild = BST(data) \n",
    "        else:\n",
    "            if self.rchild:\n",
    "                self.rchild.insert(data)\n",
    "            else:\n",
    "                self.rchild = BST(data)\n",
    "                \n",
    "    def preorder(self):\n",
    "        print(self.key, end=\" \")\n",
    "        if self.lchild:\n",
    "            self.lchild.preorder()\n",
    "        if self.rchild:\n",
    "            self.rchild.preorder()\n",
    "            \n",
    "            \n",
    "root = BST(10)\n",
    "l = [1,34,45,67,2]\n",
    "for i in l:\n",
    "    root.insert(i)\n",
    "\n",
    "root.preorder()"
   ]
  },
  {
   "cell_type": "markdown",
   "id": "51e49d54",
   "metadata": {},
   "source": [
    "# Traversal - Inorder"
   ]
  },
  {
   "cell_type": "code",
   "execution_count": 24,
   "id": "2bd6d180",
   "metadata": {},
   "outputs": [
    {
     "name": "stdout",
     "output_type": "stream",
     "text": [
      "1 2 10 34 45 67 "
     ]
    }
   ],
   "source": [
    "class BST:\n",
    "    def __init__(self, key):\n",
    "        self.key = key\n",
    "        self.lchild = None\n",
    "        self.rchild = None\n",
    "        \n",
    "    def insert(self, data):\n",
    "        if self.key == data:\n",
    "            return\n",
    "        if self.key is None:\n",
    "            self.key = data\n",
    "            return\n",
    "        if self.key > data:\n",
    "            if self.lchild:\n",
    "                self.lchild.insert(data)\n",
    "            else:\n",
    "                self.lchild = BST(data) \n",
    "        else:\n",
    "            if self.rchild:\n",
    "                self.rchild.insert(data)\n",
    "            else:\n",
    "                self.rchild = BST(data)\n",
    "                \n",
    "    def inorder(self):\n",
    "        if self.lchild:\n",
    "            self.lchild.inorder()\n",
    "        print(self.key, end=\" \")\n",
    "        if self.rchild:\n",
    "            self.rchild.inorder()\n",
    "            \n",
    "            \n",
    "root = BST(10)\n",
    "l = [1,34,45,67,2]\n",
    "for i in l:\n",
    "    root.insert(i)\n",
    "\n",
    "root.inorder()"
   ]
  },
  {
   "cell_type": "markdown",
   "id": "62fb0f3f",
   "metadata": {},
   "source": [
    "# Traversal - Postorder"
   ]
  },
  {
   "cell_type": "code",
   "execution_count": 25,
   "id": "4bcefd4e",
   "metadata": {},
   "outputs": [
    {
     "name": "stdout",
     "output_type": "stream",
     "text": [
      "2 1 67 45 34 10 "
     ]
    }
   ],
   "source": [
    "class BST:\n",
    "    def __init__(self, key):\n",
    "        self.key = key\n",
    "        self.lchild = None\n",
    "        self.rchild = None\n",
    "        \n",
    "    def insert(self, data):\n",
    "        if self.key == data:\n",
    "            return\n",
    "        if self.key is None:\n",
    "            self.key = data\n",
    "            return\n",
    "        if self.key > data:\n",
    "            if self.lchild:\n",
    "                self.lchild.insert(data)\n",
    "            else:\n",
    "                self.lchild = BST(data) \n",
    "        else:\n",
    "            if self.rchild:\n",
    "                self.rchild.insert(data)\n",
    "            else:\n",
    "                self.rchild = BST(data)\n",
    "                \n",
    "    def postorder(self):\n",
    "        if self.lchild:\n",
    "            self.lchild.postorder()\n",
    "        if self.rchild:\n",
    "            self.rchild.postorder()\n",
    "        print(self.key, end=\" \")\n",
    "        \n",
    "            \n",
    "            \n",
    "root = BST(10)\n",
    "l = [1,34,45,67,2]\n",
    "for i in l:\n",
    "    root.insert(i)\n",
    "\n",
    "root.postorder()"
   ]
  },
  {
   "cell_type": "markdown",
   "id": "1fac90a6",
   "metadata": {},
   "source": [
    "# Search"
   ]
  },
  {
   "cell_type": "code",
   "execution_count": 20,
   "id": "0a0b7e4d",
   "metadata": {},
   "outputs": [
    {
     "name": "stdout",
     "output_type": "stream",
     "text": [
      "Node is Found\n"
     ]
    }
   ],
   "source": [
    "class BST:\n",
    "    def __init__(self, key):\n",
    "        self.key = key\n",
    "        self.lchild = None\n",
    "        self.rchild = None\n",
    "        \n",
    "    def insert(self, data):\n",
    "        if self.key == data:\n",
    "            return\n",
    "        if self.key is None:\n",
    "            self.key = data\n",
    "            return\n",
    "        if self.key > data:\n",
    "            if self.lchild:\n",
    "                self.lchild.insert(data)\n",
    "            else:\n",
    "                self.lchild = BST(data) \n",
    "        else:\n",
    "            if self.rchild:\n",
    "                self.rchild.insert(data)\n",
    "            else:\n",
    "                self.rchild = BST(data)\n",
    "                \n",
    "    def search(self, data):\n",
    "        if self.key == data:\n",
    "            print(\"Node is Found\")\n",
    "            return\n",
    "        if data < self.key:\n",
    "            if self.lchild:\n",
    "                self.lchild.search(data)\n",
    "            else:\n",
    "                print(\"Node not found\")\n",
    "        else:\n",
    "            if self.rchild:\n",
    "                self.rchild.search(data)\n",
    "            else:\n",
    "                print(\"Node not found\")\n",
    "                \n",
    "                \n",
    "            \n",
    "        \n",
    "root = BST(10)\n",
    "l = [1,34,45,67,2]\n",
    "for i in l:\n",
    "    root.insert(i)\n",
    "\n",
    "root.search(2)"
   ]
  },
  {
   "cell_type": "markdown",
   "id": "9f589cdb",
   "metadata": {},
   "source": [
    "# Deletion"
   ]
  },
  {
   "cell_type": "code",
   "execution_count": 54,
   "id": "dee70a1f",
   "metadata": {},
   "outputs": [
    {
     "name": "stdout",
     "output_type": "stream",
     "text": [
      "Before deletion:\n",
      "10 1 2 \n",
      "After deletion:\n",
      "1 2 "
     ]
    }
   ],
   "source": [
    "class BST:\n",
    "    def __init__(self, key):\n",
    "        self.key = key\n",
    "        self.lchild = None\n",
    "        self.rchild = None\n",
    "        \n",
    "    def insert(self, data):\n",
    "        if self.key == data:\n",
    "            return\n",
    "        if self.key is None:\n",
    "            self.key = data\n",
    "            return\n",
    "        if self.key > data:\n",
    "            if self.lchild:\n",
    "                self.lchild.insert(data)\n",
    "            else:\n",
    "                self.lchild = BST(data) \n",
    "        else:\n",
    "            if self.rchild:\n",
    "                self.rchild.insert(data)\n",
    "            else:\n",
    "                self.rchild = BST(data)\n",
    "                \n",
    "    def preorder(self):\n",
    "        print(self.key, end=\" \")\n",
    "        if self.lchild:\n",
    "            self.lchild.preorder()\n",
    "        if self.rchild:\n",
    "            self.rchild.preorder()\n",
    "                \n",
    "    def delete(self, data, curr):\n",
    "        if self.key is None:\n",
    "            print(\"Tree is empty\")\n",
    "            return\n",
    "        if data < self.key:\n",
    "            if self.lchild:\n",
    "                self.lchild = self.lchild.delete(data, curr)\n",
    "            else:\n",
    "                print(\"Given node is not present\")\n",
    "        elif data > self.key:\n",
    "            if self.rchild:\n",
    "                self.rchild = self.rchild.delete(data, curr)\n",
    "            else:\n",
    "                print(\"Given node is not present\")\n",
    "        else:\n",
    "            if self.lchild is None:\n",
    "                temp = self.rchild\n",
    "                if data == curr:\n",
    "                    self.key = temp.key\n",
    "                    self.lchild = temp.lchild\n",
    "                    self.rchild = temp.rchild\n",
    "                    temp = None\n",
    "                    return\n",
    "                self = None\n",
    "                return temp\n",
    "            if self.rchild is None:\n",
    "                temp = self.lchild\n",
    "                if data == curr:\n",
    "                    self.key = temp.key\n",
    "                    self.lchild = temp.lchild\n",
    "                    self.rchild = temp.rchild\n",
    "                    temp = None\n",
    "                    return\n",
    "                self = None\n",
    "                return temp\n",
    "            node = self.rchild\n",
    "            while node.lchild:\n",
    "                node = node.lchild\n",
    "            self.key = node.key\n",
    "            self.rchild = self.rchild.delete(node.key, curr)\n",
    "        return self\n",
    "            \n",
    "def count(node):\n",
    "    if node is None:\n",
    "        return 0\n",
    "    return 1+count(node.lchild)+count(node.rchild)\n",
    "        \n",
    "root = BST(10)\n",
    "l = [1,2]\n",
    "for i in l:\n",
    "    root.insert(i)\n",
    "\n",
    "print(\"Before deletion:\")\n",
    "root.preorder()\n",
    "print()\n",
    "if count(root) > 1:\n",
    "    root.delete(10,root.key)\n",
    "else:\n",
    "    print(\"can't perform this operation\")\n",
    "print(\"After deletion:\")\n",
    "root.preorder()"
   ]
  },
  {
   "cell_type": "markdown",
   "id": "901e4d36",
   "metadata": {},
   "source": [
    "# Maximum Node"
   ]
  },
  {
   "cell_type": "code",
   "execution_count": 8,
   "id": "320d3f25",
   "metadata": {},
   "outputs": [
    {
     "name": "stdout",
     "output_type": "stream",
     "text": [
      "100\n"
     ]
    }
   ],
   "source": [
    "class BST:\n",
    "    def __init__(self, key):\n",
    "        self.key = key\n",
    "        self.lchild = None\n",
    "        self.rchild = None\n",
    "        \n",
    "    def insert(self, data):\n",
    "        if self.key == data:\n",
    "            return\n",
    "        if self.key is None:\n",
    "            self.key = data\n",
    "            return\n",
    "        if self.key > data:\n",
    "            if self.lchild:\n",
    "                self.lchild.insert(data)\n",
    "            else:\n",
    "                self.lchild = BST(data) \n",
    "        else:\n",
    "            if self.rchild:\n",
    "                self.rchild.insert(data)\n",
    "            else:\n",
    "                self.rchild = BST(data)\n",
    "                \n",
    "    def max_node(self):\n",
    "        if self.rchild:\n",
    "            self.rchild.max_node()\n",
    "        elif self.rchild is None:\n",
    "            print(self.key)\n",
    "            \n",
    "            \n",
    "root = BST(10)\n",
    "l = [6,3,1,6,98,3,7,100]\n",
    "for i in l:\n",
    "    root.insert(i)\n",
    "\n",
    "root.max_node()"
   ]
  },
  {
   "cell_type": "markdown",
   "id": "0d315e29",
   "metadata": {},
   "source": [
    "# Minimum Node"
   ]
  },
  {
   "cell_type": "code",
   "execution_count": 14,
   "id": "52f43d1d",
   "metadata": {},
   "outputs": [
    {
     "name": "stdout",
     "output_type": "stream",
     "text": [
      "1\n"
     ]
    }
   ],
   "source": [
    "class BST:\n",
    "    def __init__(self, key):\n",
    "        self.key = key\n",
    "        self.lchild = None\n",
    "        self.rchild = None\n",
    "        \n",
    "    def insert(self, data):\n",
    "        if self.key == data:\n",
    "            return\n",
    "        if self.key is None:\n",
    "            self.key = data\n",
    "            return\n",
    "        if self.key > data:\n",
    "            if self.lchild:\n",
    "                self.lchild.insert(data)\n",
    "            else:\n",
    "                self.lchild = BST(data) \n",
    "        else:\n",
    "            if self.rchild:\n",
    "                self.rchild.insert(data)\n",
    "            else:\n",
    "                self.rchild = BST(data)\n",
    "    \n",
    "    '''\n",
    "    with loop\n",
    "    def min_node(self):\n",
    "        current = self\n",
    "        while current.lchild:\n",
    "            current = self.lchild\n",
    "        return current.key\n",
    "    '''\n",
    "    \n",
    "    def min_node(self):\n",
    "        if self.lchild:\n",
    "            self.lchild.min_node()\n",
    "        elif self.lchild is None:\n",
    "            print(self.key)\n",
    "            \n",
    "            \n",
    "root = BST(10)\n",
    "l = [1,34,45,67,2]\n",
    "for i in l:\n",
    "    root.insert(i)\n",
    "\n",
    "root.min_node()"
   ]
  },
  {
   "cell_type": "code",
   "execution_count": null,
   "id": "507c437b",
   "metadata": {},
   "outputs": [],
   "source": []
  }
 ],
 "metadata": {
  "kernelspec": {
   "display_name": "Python 3 (ipykernel)",
   "language": "python",
   "name": "python3"
  },
  "language_info": {
   "codemirror_mode": {
    "name": "ipython",
    "version": 3
   },
   "file_extension": ".py",
   "mimetype": "text/x-python",
   "name": "python",
   "nbconvert_exporter": "python",
   "pygments_lexer": "ipython3",
   "version": "3.10.4"
  }
 },
 "nbformat": 4,
 "nbformat_minor": 5
}
