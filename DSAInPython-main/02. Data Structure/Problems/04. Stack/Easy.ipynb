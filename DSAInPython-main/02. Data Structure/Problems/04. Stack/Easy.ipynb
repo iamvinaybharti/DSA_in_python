{
 "cells": [
  {
   "cell_type": "markdown",
   "id": "969c6a6a",
   "metadata": {},
   "source": [
    "# 1. (20. Valid Parentheses) "
   ]
  },
  {
   "cell_type": "code",
   "execution_count": 2,
   "id": "b1032324",
   "metadata": {},
   "outputs": [
    {
     "data": {
      "text/plain": [
       "True"
      ]
     },
     "execution_count": 2,
     "metadata": {},
     "output_type": "execute_result"
    }
   ],
   "source": [
    "\"\"\"\n",
    "Given a string s containing just the characters '(', ')', '{', '}', '[' and ']', determine if the input string is valid.\n",
    "\n",
    "An input string is valid if:\n",
    "\n",
    "Open brackets must be closed by the same type of brackets.\n",
    "Open brackets must be closed in the correct order.\n",
    " \n",
    "\n",
    "Example 1:\n",
    "\n",
    "Input: \"s = \"()[]{}\"\"\n",
    "Output: true\n",
    "\"\"\"\n",
    "\n",
    "\"\"\"\n",
    "Algorithm:\n",
    "1. store all the closing brackets as a key & opening brackets in a hashmap.\n",
    "2. iterate thorugh the input string.\n",
    "3. check if the character is not in hashmap then push this into a stack \n",
    "4. else check if stack is not empty and top of stack == hashmap[input character]\n",
    "   if it matches then pop the stack & if not matches then return false because it is not valid.\n",
    "5. check if stack is empty then return true else return false.\n",
    "\n",
    "T = O(n)\n",
    "S = O(n)\n",
    "\"\"\"\n",
    "\n",
    "class Solution:\n",
    "    def isValid(self, s: str) -> bool:\n",
    "        stack = []\n",
    "        brackets = {\")\":\"(\", \"]\":\"[\", \"}\":\"{\"}\n",
    "        for c in s:\n",
    "            if c not in brackets:\n",
    "                stack.append(c)\n",
    "            else:\n",
    "                if stack and stack[-1] == brackets[c]:\n",
    "                    stack.pop()\n",
    "                else:\n",
    "                    return False\n",
    "        return True if not stack else False\n",
    "\n",
    "data = \"()[]{}\"\n",
    "s = Solution()\n",
    "s.isValid(data)"
   ]
  },
  {
   "cell_type": "markdown",
   "id": "36391c09",
   "metadata": {},
   "source": [
    "# 2. (1614. Maximum Nesting Depth of the Parentheses)"
   ]
  },
  {
   "cell_type": "code",
   "execution_count": 7,
   "id": "ff2c6a5f",
   "metadata": {},
   "outputs": [
    {
     "data": {
      "text/plain": [
       "3"
      ]
     },
     "execution_count": 7,
     "metadata": {},
     "output_type": "execute_result"
    }
   ],
   "source": [
    "\"\"\"\n",
    "A string is a valid parentheses string (denoted VPS) if it meets one of the following:\n",
    "\n",
    "It is an empty string \"\", or a single character not equal to \"(\" or \")\",\n",
    "It can be written as AB (A concatenated with B), where A and B are VPS's, or\n",
    "It can be written as (A), where A is a VPS.\n",
    "We can similarly define the nesting depth depth(S) of any VPS S as follows:\n",
    "\n",
    "depth(\"\") = 0\n",
    "depth(C) = 0, where C is a string with a single character not equal to \"(\" or \")\".\n",
    "depth(A + B) = max(depth(A), depth(B)), where A and B are VPS's.\n",
    "depth(\"(\" + A + \")\") = 1 + depth(A), where A is a VPS.\n",
    "For example, \"\", \"()()\", and \"()(()())\" are VPS's (with nesting depths 0, 1, and 2), and \")(\" and \"(()\" are not VPS's.\n",
    "\n",
    "Given a VPS represented as string s, return the nesting depth of s.\n",
    "\n",
    " \n",
    "\n",
    "Example 1:\n",
    "\n",
    "Input: s = \"(1+(2*3)+((8)/4))+1\"\n",
    "Output: 3\n",
    "Explanation: Digit 8 is inside of 3 nested parentheses in the string.\n",
    "\"\"\"\n",
    "\n",
    "\"\"\"\n",
    "Algorithm:\n",
    "1. initialise depth = 0 & stack\n",
    "2. loop over the given string till the length of it(ignore characters other than paranthesis).\n",
    "3. if character is '(' then push it to stack and update depth by comparing the maximum value between depth & size of stack.\n",
    "4. if character is ')' then pop the stack.\n",
    "5. return depth.\n",
    "\n",
    "T = O(n)\n",
    "S = O(1)\n",
    "\"\"\"\n",
    "\n",
    "class Solution:\n",
    "    def maxDepth(self, s: str) -> int:\n",
    "        stack = []\n",
    "        depth = 0\n",
    "        for char in s:\n",
    "            if char == \"(\":\n",
    "                stack.append(\"(\")\n",
    "                depth = max(depth, len(stack))\n",
    "            elif char == \")\":\n",
    "                stack.pop()\n",
    "        return depth\n",
    "    \n",
    "    \n",
    "vps = \"(1+(2*3)+((8)/4))+1\"\n",
    "s = Solution()\n",
    "s.maxDepth(vps)"
   ]
  },
  {
   "cell_type": "markdown",
   "id": "0a3a355a",
   "metadata": {},
   "source": [
    "# 3. (496. Next Greater Element I)"
   ]
  },
  {
   "cell_type": "code",
   "execution_count": 32,
   "id": "69f1ac16",
   "metadata": {},
   "outputs": [
    {
     "data": {
      "text/plain": [
       "[-1, 3, -1]"
      ]
     },
     "execution_count": 32,
     "metadata": {},
     "output_type": "execute_result"
    }
   ],
   "source": [
    "\"\"\"\n",
    "The next greater element of some element x in an array is the first greater element that is to the right of x in the same array.\n",
    "\n",
    "You are given two distinct 0-indexed integer arrays nums1 and nums2, where nums1 is a subset of nums2.\n",
    "\n",
    "For each 0 <= i < nums1.length, find the index j such that nums1[i] == nums2[j] and determine the next greater element of nums2[j] in nums2. If there is no next greater element, then the answer for this query is -1.\n",
    "\n",
    "Return an array ans of length nums1.length such that ans[i] is the next greater element as described above.\n",
    "\n",
    " \n",
    "\n",
    "Example 1:\n",
    "\n",
    "Input: nums1 = [4,1,2], nums2 = [1,3,4,2]\n",
    "Output: [-1,3,-1]\n",
    "Explanation: The next greater element for each value of nums1 is as follows:\n",
    "- 4 is underlined in nums2 = [1,3,4,2]. There is no next greater element, so the answer is -1.\n",
    "- 1 is underlined in nums2 = [1,3,4,2]. The next greater element is 3.\n",
    "- 2 is underlined in nums2 = [1,3,4,2]. There is no next greater element, so the answer is -1.\n",
    "\"\"\"\n",
    "\n",
    "\"\"\"\n",
    "Algorithm:\n",
    "1. create a hashmap with mapping of subset of array.\n",
    "2. create a list having length of larger array initialises with -1.\n",
    "3. loop over larger array till it's length.\n",
    "   keep cur variable which will track the current element.\n",
    "   again loop while stack is not empty and current is less than top of stack.\n",
    "   -------------pending\n",
    "\"\"\"\n",
    "\n",
    "class Solution:\n",
    "    def nextGreaterElement(self, nums1: List[int], nums2: List[int]) -> List[int]:\n",
    "        hashmap = {n:i for i,n in enumerate(nums1)}\n",
    "        res = [-1] *len(nums1)\n",
    "        stack = []\n",
    "        for i in range(len(nums2)):\n",
    "            cur = nums2[i]\n",
    "            while stack and cur > stack[-1]:\n",
    "                val = stack.pop()\n",
    "                idx = hashmap[val]\n",
    "                res[idx] = cur\n",
    "            if cur in hashmap:\n",
    "                stack.append(cur)\n",
    "        return res\n",
    " \n",
    "                \n",
    "nums1 = [4,1,2]\n",
    "nums2 = [1,3,4,2]\n",
    "s = Solution()\n",
    "s.nextGreaterElement(nums1, nums2)"
   ]
  },
  {
   "cell_type": "markdown",
   "id": "86dfc1c5",
   "metadata": {},
   "source": [
    "# 4. (682. Baseball Game)"
   ]
  },
  {
   "cell_type": "code",
   "execution_count": 33,
   "id": "614fbfd1",
   "metadata": {},
   "outputs": [
    {
     "data": {
      "text/plain": [
       "30"
      ]
     },
     "execution_count": 33,
     "metadata": {},
     "output_type": "execute_result"
    }
   ],
   "source": [
    "\"\"\"\n",
    "You are keeping score for a baseball game with strange rules. The game consists of several rounds, where the scores of past rounds may affect future rounds' scores.\n",
    "\n",
    "At the beginning of the game, you start with an empty record. You are given a list of strings ops, where ops[i] is the ith operation you must apply to the record and is one of the following:\n",
    "\n",
    "An integer x - Record a new score of x.\n",
    "\"+\" - Record a new score that is the sum of the previous two scores. It is guaranteed there will always be two previous scores.\n",
    "\"D\" - Record a new score that is double the previous score. It is guaranteed there will always be a previous score.\n",
    "\"C\" - Invalidate the previous score, removing it from the record. It is guaranteed there will always be a previous score.\n",
    "Return the sum of all the scores on the record. The test cases are generated so that the answer fits in a 32-bit integer.\n",
    "\n",
    " \n",
    "\n",
    "Example 1:\n",
    "\n",
    "Input: ops = [\"5\",\"2\",\"C\",\"D\",\"+\"]\n",
    "Output: 30\n",
    "Explanation:\n",
    "\"5\" - Add 5 to the record, record is now [5].\n",
    "\"2\" - Add 2 to the record, record is now [5, 2].\n",
    "\"C\" - Invalidate and remove the previous score, record is now [5].\n",
    "\"D\" - Add 2 * 5 = 10 to the record, record is now [5, 10].\n",
    "\"+\" - Add 5 + 10 = 15 to the record, record is now [5, 10, 15].\n",
    "The total sum is 5 + 10 + 15 = 30.\n",
    "\"\"\"\n",
    "\n",
    "\"\"\"\n",
    "Algorithm:\n",
    "1. scan the input\n",
    "2. if char == number then push\n",
    "3. if char == 'C' then pop\n",
    "4. if char == 'D' then push 2 * stack.top()\n",
    "5. if char == '+' then take top of stack in temp (which will act as prev value) & pop the stack once. now again push the temp\n",
    "element to the stack.\n",
    "6. return sum of stack.\n",
    "\n",
    "T = O(n)\n",
    "S = O(1)\n",
    "\"\"\"\n",
    "\n",
    "class Solution:\n",
    "    def calPoints(self, ops: List[str]) -> int:\n",
    "        stack = []\n",
    "        for char in ops:\n",
    "            if char != 'C' and char != 'D' and char != '+':\n",
    "                stack.append(int(char))\n",
    "            elif char == 'C':\n",
    "                stack.pop()\n",
    "            elif char =='D':\n",
    "                stack.append(2  * stack[-1] )\n",
    "            elif char == '+':\n",
    "                temp = stack[-1]\n",
    "                stack.pop()\n",
    "                prev = stack[-1]\n",
    "                stack.append(temp)\n",
    "                stack.append(stack[-1] + prev)\n",
    "        return sum(stack)\n",
    "    \n",
    "ops = [\"5\",\"2\",\"C\",\"D\",\"+\"]        \n",
    "s = Solution()\n",
    "s.calPoints(ops)"
   ]
  },
  {
   "cell_type": "markdown",
   "id": "d8ce41a4",
   "metadata": {},
   "source": [
    "# 5. (1047. Remove All Adjacent Duplicates In String)"
   ]
  },
  {
   "cell_type": "code",
   "execution_count": 35,
   "id": "37244bac",
   "metadata": {},
   "outputs": [
    {
     "data": {
      "text/plain": [
       "'ca'"
      ]
     },
     "execution_count": 35,
     "metadata": {},
     "output_type": "execute_result"
    }
   ],
   "source": [
    "\"\"\"\n",
    "You are given a string s consisting of lowercase English letters. A duplicate removal consists of choosing two adjacent and equal letters and removing them.\n",
    "\n",
    "We repeatedly make duplicate removals on s until we no longer can.\n",
    "\n",
    "Return the final string after all such duplicate removals have been made. It can be proven that the answer is unique.\n",
    "\n",
    " \n",
    "\n",
    "Example 1:\n",
    "\n",
    "Input: s = \"abbaca\"\n",
    "Output: \"ca\"\n",
    "Explanation: \n",
    "For example, in \"abbaca\" we could remove \"bb\" since the letters are adjacent and equal, and this is the only possible move.  The result of this move is that the string is \"aaca\", of which only \"aa\" is possible, so the final string is \"ca\".\n",
    "\"\"\"\n",
    "\n",
    "\"\"\"\n",
    "Algorithm:\n",
    "1. scan input.\n",
    "2. if stack is not empty and top of stack == current scanned element then pop the stack\n",
    "3. else push the stack\n",
    "4. return converting stack elements into a string.\n",
    "\"\"\"\n",
    "\n",
    "class Solution:\n",
    "    def removeDuplicates(self, s: str) -> str:\n",
    "        stack = []\n",
    "        for c in s:\n",
    "            if stack and stack[-1] == c:\n",
    "                stack.pop()\n",
    "            else:\n",
    "                stack.append(c)\n",
    "        return \"\".join(stack)\n",
    "            \n",
    "inp =  \"abbaca\"           \n",
    "s = Solution()\n",
    "s.removeDuplicates(inp)"
   ]
  },
  {
   "cell_type": "code",
   "execution_count": null,
   "id": "59ed64d5",
   "metadata": {},
   "outputs": [],
   "source": []
  }
 ],
 "metadata": {
  "kernelspec": {
   "display_name": "Python 3 (ipykernel)",
   "language": "python",
   "name": "python3"
  },
  "language_info": {
   "codemirror_mode": {
    "name": "ipython",
    "version": 3
   },
   "file_extension": ".py",
   "mimetype": "text/x-python",
   "name": "python",
   "nbconvert_exporter": "python",
   "pygments_lexer": "ipython3",
   "version": "3.10.4"
  }
 },
 "nbformat": 4,
 "nbformat_minor": 5
}
