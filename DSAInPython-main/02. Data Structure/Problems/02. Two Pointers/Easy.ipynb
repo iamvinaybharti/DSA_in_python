{
 "cells": [
  {
   "cell_type": "markdown",
   "id": "1465276a",
   "metadata": {},
   "source": [
    "# <h1 style=\"color:green;\"> 1. (125. Valid Palindrome) </h1>"
   ]
  },
  {
   "cell_type": "code",
   "execution_count": 1,
   "id": "b7dbb8e3",
   "metadata": {},
   "outputs": [
    {
     "data": {
      "text/plain": [
       "True"
      ]
     },
     "execution_count": 1,
     "metadata": {},
     "output_type": "execute_result"
    }
   ],
   "source": [
    "\"\"\"\n",
    "A phrase is a palindrome if, after converting all uppercase letters into lowercase letters and removing all non-alphanumeric characters, it reads the same forward and backward. Alphanumeric characters include letters and numbers.\n",
    "\n",
    "Given a string s, return true if it is a palindrome, or false otherwise.\n",
    "\n",
    " \n",
    "\n",
    "Example 1:\n",
    "\n",
    "Input: s = \"A man, a plan, a canal: Panama\"\n",
    "Output: true\n",
    "Explanation: \"amanaplanacanalpanama\" is a palindrome.\n",
    "\"\"\"\n",
    "\n",
    "class Solution:\n",
    "    def isPalindrome(self, s: str) -> bool:\n",
    "        flag = True\n",
    "        s = \"\".join([x if (x>= 'A' and x<='Z') or (x>= 'a' and x<='z') or (x>= '0' and x<='9') else \"\" for x in s])\n",
    "        s = s.lower()\n",
    "        for i in range(len(s)-1):\n",
    "            if s[i] != s[len(s)-1-i]:\n",
    "                flag = False\n",
    "                break\n",
    "        return flag\n",
    "                \n",
    "inp = \"A man, a plan, a canal: Panama\"\n",
    "s = Solution()\n",
    "s.isPalindrome(inp)"
   ]
  },
  {
   "cell_type": "code",
   "execution_count": null,
   "id": "84653b10",
   "metadata": {},
   "outputs": [],
   "source": []
  }
 ],
 "metadata": {
  "kernelspec": {
   "display_name": "Python 3 (ipykernel)",
   "language": "python",
   "name": "python3"
  },
  "language_info": {
   "codemirror_mode": {
    "name": "ipython",
    "version": 3
   },
   "file_extension": ".py",
   "mimetype": "text/x-python",
   "name": "python",
   "nbconvert_exporter": "python",
   "pygments_lexer": "ipython3",
   "version": "3.10.4"
  }
 },
 "nbformat": 4,
 "nbformat_minor": 5
}
