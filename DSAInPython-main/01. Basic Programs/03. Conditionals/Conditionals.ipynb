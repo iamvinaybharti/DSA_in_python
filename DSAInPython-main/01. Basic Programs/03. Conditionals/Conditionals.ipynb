{
 "cells": [
  {
   "cell_type": "markdown",
   "id": "bf627949",
   "metadata": {},
   "source": [
    "# 01. Negative or Positive"
   ]
  },
  {
   "cell_type": "code",
   "execution_count": 1,
   "id": "8e62fae7",
   "metadata": {},
   "outputs": [
    {
     "name": "stdout",
     "output_type": "stream",
     "text": [
      "Positive\n"
     ]
    }
   ],
   "source": [
    "num = 5\n",
    "print(\"Positive\") if num>=0 else print(\"Negative\")"
   ]
  },
  {
   "cell_type": "markdown",
   "id": "261a64f9",
   "metadata": {},
   "source": [
    "# 02. Greatest Number"
   ]
  },
  {
   "cell_type": "code",
   "execution_count": 17,
   "id": "5ef62032",
   "metadata": {},
   "outputs": [
    {
     "name": "stdout",
     "output_type": "stream",
     "text": [
      "1000 is greatest\n"
     ]
    }
   ],
   "source": [
    "a=10\n",
    "b=100\n",
    "c=1000\n",
    "\n",
    "if a>=b and a>=c:\n",
    "    print(a,\"is greatest\")\n",
    "elif b>=c and b>=a:\n",
    "    print(b,\"is greatest\")\n",
    "else:\n",
    "    print(c,\"is greatest\")\n",
    "    \n",
    "#-------------------OR----------------------------    \n",
    "# if a>b:\n",
    "#     if a>c:\n",
    "#         print(a,\"is greatest\")\n",
    "#     else:\n",
    "#         print(c,\"is greatest\")\n",
    "# else:\n",
    "#     if b>c:\n",
    "#         print(b,\"is greatest\")\n",
    "#     else:\n",
    "#         print(c,\"is greatest\")"
   ]
  },
  {
   "cell_type": "markdown",
   "id": "18193348",
   "metadata": {},
   "source": [
    "# 03. Grading System"
   ]
  },
  {
   "cell_type": "code",
   "execution_count": 18,
   "id": "7bcc6c1f",
   "metadata": {},
   "outputs": [
    {
     "name": "stdout",
     "output_type": "stream",
     "text": [
      "Enter grade:\n",
      "a\n",
      "excellent\n"
     ]
    }
   ],
   "source": [
    "g = input(\"Enter grade:\\n\")\n",
    "if g == \"a\":\n",
    "    print(\"excellent\")\n",
    "elif g == 'b':\n",
    "    print(\"good\")\n",
    "elif g == 'c':\n",
    "    print(\"fair\")\n",
    "elif g == 'd':\n",
    "    print(\"poor\")\n",
    "else:\n",
    "    print(\"invalid grade\")"
   ]
  },
  {
   "cell_type": "markdown",
   "id": "89dbb27d",
   "metadata": {},
   "source": [
    "# 04. Check Even Odd"
   ]
  },
  {
   "cell_type": "code",
   "execution_count": 20,
   "id": "fcbbbf37",
   "metadata": {},
   "outputs": [
    {
     "name": "stdout",
     "output_type": "stream",
     "text": [
      "odd\n"
     ]
    }
   ],
   "source": [
    "n = 7\n",
    "print(\"even\") if n%2==0 else print(\"odd\")"
   ]
  },
  {
   "cell_type": "markdown",
   "id": "a2b586c2",
   "metadata": {},
   "source": [
    "# 05. Check Divisibility"
   ]
  },
  {
   "cell_type": "code",
   "execution_count": 22,
   "id": "d9405289",
   "metadata": {},
   "outputs": [
    {
     "name": "stdout",
     "output_type": "stream",
     "text": [
      "not divisible\n"
     ]
    }
   ],
   "source": [
    "num = 51\n",
    "divisibility_num = 5\n",
    "print(\"divisible\") if num%divisibility_num == 0 else print(\"not divisible\")"
   ]
  },
  {
   "cell_type": "markdown",
   "id": "c6d2da6f",
   "metadata": {},
   "source": [
    "# 06. Check Vowel or Consonant"
   ]
  },
  {
   "cell_type": "code",
   "execution_count": 28,
   "id": "bba9f13e",
   "metadata": {},
   "outputs": [
    {
     "name": "stdout",
     "output_type": "stream",
     "text": [
      "vowel\n"
     ]
    }
   ],
   "source": [
    "char = 'o'\n",
    "print(\"vowel\") if char == 'a' or char == 'e' or char == 'i'or char=='o' or char == 'u' else print(\"consonant\")"
   ]
  },
  {
   "cell_type": "markdown",
   "id": "5700b4f4",
   "metadata": {},
   "source": [
    "# 07. Check Age Group"
   ]
  },
  {
   "cell_type": "code",
   "execution_count": 34,
   "id": "08fa9860",
   "metadata": {},
   "outputs": [
    {
     "name": "stdout",
     "output_type": "stream",
     "text": [
      "young\n"
     ]
    }
   ],
   "source": [
    "age = 45\n",
    "if age<18:\n",
    "    print(\"child\")\n",
    "elif age>18 and age<60:\n",
    "    print(\"young\")\n",
    "elif age>60:\n",
    "    print(\"old\")"
   ]
  },
  {
   "cell_type": "code",
   "execution_count": null,
   "id": "9ed1fedb",
   "metadata": {},
   "outputs": [],
   "source": []
  }
 ],
 "metadata": {
  "kernelspec": {
   "display_name": "Python 3 (ipykernel)",
   "language": "python",
   "name": "python3"
  },
  "language_info": {
   "codemirror_mode": {
    "name": "ipython",
    "version": 3
   },
   "file_extension": ".py",
   "mimetype": "text/x-python",
   "name": "python",
   "nbconvert_exporter": "python",
   "pygments_lexer": "ipython3",
   "version": "3.10.4"
  }
 },
 "nbformat": 4,
 "nbformat_minor": 5
}
