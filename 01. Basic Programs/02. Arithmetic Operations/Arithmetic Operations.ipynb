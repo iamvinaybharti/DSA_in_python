{
 "cells": [
  {
   "cell_type": "markdown",
   "id": "581cef0a",
   "metadata": {},
   "source": [
    "# 1. Add Two Numbers"
   ]
  },
  {
   "cell_type": "code",
   "execution_count": 1,
   "id": "eb2e95d1",
   "metadata": {},
   "outputs": [
    {
     "name": "stdout",
     "output_type": "stream",
     "text": [
      "30\n"
     ]
    }
   ],
   "source": [
    "a = 10\n",
    "b = 20\n",
    "print(a+b)"
   ]
  },
  {
   "cell_type": "markdown",
   "id": "a4ccdce4",
   "metadata": {},
   "source": [
    "# 2. Calculate Square"
   ]
  },
  {
   "cell_type": "code",
   "execution_count": 4,
   "id": "dd926faf",
   "metadata": {},
   "outputs": [
    {
     "name": "stdout",
     "output_type": "stream",
     "text": [
      "25\n"
     ]
    }
   ],
   "source": [
    "x = 5\n",
    "print(5*5)\n",
    "#pyhtonic way\n",
    "# x = 10\n",
    "# print(x**2)"
   ]
  },
  {
   "cell_type": "markdown",
   "id": "c5ee1085",
   "metadata": {},
   "source": [
    "# 3. Area of Circle"
   ]
  },
  {
   "cell_type": "code",
   "execution_count": 5,
   "id": "7fa32a7d",
   "metadata": {},
   "outputs": [
    {
     "name": "stdout",
     "output_type": "stream",
     "text": [
      "area :  78.57142857142857\n"
     ]
    }
   ],
   "source": [
    "r = 5\n",
    "print(\"area : \",22/7 * r*r)"
   ]
  },
  {
   "cell_type": "markdown",
   "id": "3a5e701e",
   "metadata": {},
   "source": [
    "# 4. Perimeter of Circle"
   ]
  },
  {
   "cell_type": "code",
   "execution_count": 6,
   "id": "31fd772f",
   "metadata": {},
   "outputs": [
    {
     "name": "stdout",
     "output_type": "stream",
     "text": [
      "perimeter : 31.428571428571427\n"
     ]
    }
   ],
   "source": [
    "r = 5\n",
    "print(\"perimeter :\",2*22/7*r)"
   ]
  },
  {
   "cell_type": "markdown",
   "id": "5dff689c",
   "metadata": {},
   "source": [
    "# 5. Calculate Average"
   ]
  },
  {
   "cell_type": "code",
   "execution_count": 7,
   "id": "8299eec7",
   "metadata": {},
   "outputs": [
    {
     "name": "stdout",
     "output_type": "stream",
     "text": [
      "average : 10.0\n"
     ]
    }
   ],
   "source": [
    "a = 5\n",
    "b = 10\n",
    "c = 15\n",
    "print(\"average :\", (a+b+c)/3)"
   ]
  },
  {
   "cell_type": "markdown",
   "id": "c6a6718d",
   "metadata": {},
   "source": [
    "# 6. Calculate Simple Interest"
   ]
  },
  {
   "cell_type": "code",
   "execution_count": 8,
   "id": "d8814920",
   "metadata": {},
   "outputs": [
    {
     "name": "stdout",
     "output_type": "stream",
     "text": [
      "SI : 60.0\n"
     ]
    }
   ],
   "source": [
    "p = 1000\n",
    "r = 2\n",
    "t = 3\n",
    "\n",
    "print(\"SI :\", (p*r*t)/100)\n"
   ]
  },
  {
   "cell_type": "code",
   "execution_count": null,
   "id": "3f1a8290",
   "metadata": {},
   "outputs": [],
   "source": []
  }
 ],
 "metadata": {
  "kernelspec": {
   "display_name": "Python 3 (ipykernel)",
   "language": "python",
   "name": "python3"
  },
  "language_info": {
   "codemirror_mode": {
    "name": "ipython",
    "version": 3
   },
   "file_extension": ".py",
   "mimetype": "text/x-python",
   "name": "python",
   "nbconvert_exporter": "python",
   "pygments_lexer": "ipython3",
   "version": "3.10.4"
  }
 },
 "nbformat": 4,
 "nbformat_minor": 5
}
