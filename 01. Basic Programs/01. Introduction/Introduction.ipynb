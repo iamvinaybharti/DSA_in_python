{
 "cells": [
  {
   "cell_type": "markdown",
   "id": "210d463c",
   "metadata": {},
   "source": [
    "# 1. Hello World"
   ]
  },
  {
   "cell_type": "code",
   "execution_count": 1,
   "id": "48035694",
   "metadata": {},
   "outputs": [
    {
     "name": "stdout",
     "output_type": "stream",
     "text": [
      "Hello World\n"
     ]
    }
   ],
   "source": [
    "print(\"Hello World\")"
   ]
  },
  {
   "cell_type": "markdown",
   "id": "3812f2cf",
   "metadata": {},
   "source": [
    "# 2. Using Escape sequence"
   ]
  },
  {
   "cell_type": "code",
   "execution_count": 4,
   "id": "6c9540c9",
   "metadata": {},
   "outputs": [
    {
     "name": "stdout",
     "output_type": "stream",
     "text": [
      "Hello\n",
      "World\n"
     ]
    }
   ],
   "source": [
    "print(\"Hello\\nWorld\")"
   ]
  },
  {
   "cell_type": "markdown",
   "id": "34dc7d7a",
   "metadata": {},
   "source": [
    "# 3. Printing Variable's Value"
   ]
  },
  {
   "cell_type": "code",
   "execution_count": 5,
   "id": "5efd03bf",
   "metadata": {},
   "outputs": [
    {
     "name": "stdout",
     "output_type": "stream",
     "text": [
      "value of x is: 10\n"
     ]
    }
   ],
   "source": [
    "x = 10\n",
    "print(\"value of x is:\",x)"
   ]
  },
  {
   "cell_type": "markdown",
   "id": "44d7a62e",
   "metadata": {},
   "source": [
    "# 4. Taking Input"
   ]
  },
  {
   "cell_type": "code",
   "execution_count": 6,
   "id": "4fa8125b",
   "metadata": {},
   "outputs": [
    {
     "name": "stdout",
     "output_type": "stream",
     "text": [
      "Enter something:\n",
      "rks\n",
      "rks\n"
     ]
    }
   ],
   "source": [
    "inp = input(\"Enter something:\\n\")\n",
    "print(inp)"
   ]
  },
  {
   "cell_type": "markdown",
   "id": "87755530",
   "metadata": {},
   "source": [
    "# 5. Swapping values"
   ]
  },
  {
   "cell_type": "code",
   "execution_count": 9,
   "id": "4af93747",
   "metadata": {},
   "outputs": [
    {
     "name": "stdout",
     "output_type": "stream",
     "text": [
      "Before swap: a=10, b=5\n",
      "After swap: a=5, b=5\n"
     ]
    }
   ],
   "source": [
    "a = 10\n",
    "b = 5\n",
    "print(f\"Before swap: a={a}, b={b}\")\n",
    "temp = a\n",
    "a = b\n",
    "b = a\n",
    "print(f\"After swap: a={a}, b={b}\")\n",
    "#Pythonic way\n",
    "# a = 10\n",
    "# b = 5\n",
    "# print(f\"Before swap: a={a}, b={b}\")\n",
    "# a,b = b,a\n",
    "# print(f\"After swap: a={a}, b={b}\")"
   ]
  },
  {
   "cell_type": "code",
   "execution_count": null,
   "id": "1a939d4b",
   "metadata": {},
   "outputs": [],
   "source": []
  }
 ],
 "metadata": {
  "kernelspec": {
   "display_name": "Python 3 (ipykernel)",
   "language": "python",
   "name": "python3"
  },
  "language_info": {
   "codemirror_mode": {
    "name": "ipython",
    "version": 3
   },
   "file_extension": ".py",
   "mimetype": "text/x-python",
   "name": "python",
   "nbconvert_exporter": "python",
   "pygments_lexer": "ipython3",
   "version": "3.10.4"
  }
 },
 "nbformat": 4,
 "nbformat_minor": 5
}
