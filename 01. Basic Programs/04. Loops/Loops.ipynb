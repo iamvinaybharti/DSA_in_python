{
 "cells": [
  {
   "cell_type": "markdown",
   "id": "eda1b602",
   "metadata": {},
   "source": [
    "# 01. Print Hello 10 Times."
   ]
  },
  {
   "cell_type": "code",
   "execution_count": 3,
   "id": "4fc11bb5",
   "metadata": {},
   "outputs": [
    {
     "name": "stdout",
     "output_type": "stream",
     "text": [
      "1: hello\n",
      "2: hello\n",
      "3: hello\n",
      "4: hello\n",
      "5: hello\n",
      "6: hello\n",
      "7: hello\n",
      "8: hello\n",
      "9: hello\n",
      "10: hello\n"
     ]
    }
   ],
   "source": [
    "for i in range(1,11):\n",
    "    print(f\"{i}: hello\")"
   ]
  },
  {
   "cell_type": "markdown",
   "id": "3e2bfe9f",
   "metadata": {},
   "source": [
    "# 02. Print integers 10 to 1"
   ]
  },
  {
   "cell_type": "code",
   "execution_count": 5,
   "id": "1b28ea02",
   "metadata": {},
   "outputs": [
    {
     "name": "stdout",
     "output_type": "stream",
     "text": [
      "10\n",
      "9\n",
      "8\n",
      "7\n",
      "6\n",
      "5\n",
      "4\n",
      "3\n",
      "2\n",
      "1\n"
     ]
    }
   ],
   "source": [
    "for i in range(10,0,-1):\n",
    "    print(i)"
   ]
  },
  {
   "cell_type": "markdown",
   "id": "c9401b5c",
   "metadata": {},
   "source": [
    "# 03. Multiplication Table of a given Number."
   ]
  },
  {
   "cell_type": "code",
   "execution_count": 8,
   "id": "eaae4324",
   "metadata": {},
   "outputs": [
    {
     "name": "stdout",
     "output_type": "stream",
     "text": [
      "5 * 1 =  5\n",
      "5 * 2 =  10\n",
      "5 * 3 =  15\n",
      "5 * 4 =  20\n",
      "5 * 5 =  25\n",
      "5 * 6 =  30\n",
      "5 * 7 =  35\n",
      "5 * 8 =  40\n",
      "5 * 9 =  45\n",
      "5 * 10 =  50\n"
     ]
    }
   ],
   "source": [
    "n = 5\n",
    "for i in range(1,11):\n",
    "    print(f\"{n} * {i} =  {i*n}\")"
   ]
  },
  {
   "cell_type": "markdown",
   "id": "5dea8c04",
   "metadata": {},
   "source": [
    "# 04. Calculate sum of first n numbers"
   ]
  },
  {
   "cell_type": "code",
   "execution_count": 10,
   "id": "2f180a24",
   "metadata": {},
   "outputs": [
    {
     "name": "stdout",
     "output_type": "stream",
     "text": [
      "6\n"
     ]
    }
   ],
   "source": [
    "n = 3\n",
    "s = 0\n",
    "for i in range(1,n+1):\n",
    "    s += i\n",
    "print(s)"
   ]
  },
  {
   "cell_type": "markdown",
   "id": "fabc71a7",
   "metadata": {},
   "source": [
    "# 05. Calculate product of first n numbers (factorial)"
   ]
  },
  {
   "cell_type": "code",
   "execution_count": 13,
   "id": "8656473b",
   "metadata": {},
   "outputs": [
    {
     "name": "stdout",
     "output_type": "stream",
     "text": [
      "120\n"
     ]
    }
   ],
   "source": [
    "n = 5\n",
    "p = 1\n",
    "for i in range(1,n+1):\n",
    "    p *= i\n",
    "print(p)"
   ]
  },
  {
   "cell_type": "markdown",
   "id": "a7a809e9",
   "metadata": {},
   "source": [
    "# 06. Factorial"
   ]
  },
  {
   "cell_type": "code",
   "execution_count": 50,
   "id": "89e379b5",
   "metadata": {},
   "outputs": [
    {
     "name": "stdout",
     "output_type": "stream",
     "text": [
      "120\n"
     ]
    }
   ],
   "source": [
    "n = 5\n",
    "p = 1\n",
    "for i in range(n,0,-1):\n",
    "    p *= i\n",
    "print(p)"
   ]
  },
  {
   "cell_type": "markdown",
   "id": "f38c189c",
   "metadata": {},
   "source": [
    "# 07. Check Prime Number"
   ]
  },
  {
   "cell_type": "code",
   "execution_count": 62,
   "id": "b2fd58fe",
   "metadata": {},
   "outputs": [
    {
     "name": "stdout",
     "output_type": "stream",
     "text": [
      "prime\n"
     ]
    }
   ],
   "source": [
    "n = 17\n",
    "flag = True\n",
    "for i in range(2,(n//2)+1):\n",
    "    if n%i == 0:\n",
    "        flag = False\n",
    "        break\n",
    "print(\"prime\") if flag else print(\"not prime\")\n",
    "#---------------------OR-----------------------\n",
    "# n = 16\n",
    "# for i in range(2,(n//2)+1):\n",
    "#     if n%i == 0:\n",
    "#         print(\"Not Prime\")\n",
    "#         break\n",
    "# else:\n",
    "#     print(\"prime\")\n"
   ]
  },
  {
   "cell_type": "markdown",
   "id": "4917d137",
   "metadata": {},
   "source": [
    "# 08. Fibonacci Series"
   ]
  },
  {
   "cell_type": "code",
   "execution_count": 48,
   "id": "82e90238",
   "metadata": {},
   "outputs": [
    {
     "name": "stdout",
     "output_type": "stream",
     "text": [
      "0 1 1 2 3 5 8 13 21 34 55 "
     ]
    }
   ],
   "source": [
    "n = 10\n",
    "prev = 0\n",
    "nxt = 1\n",
    "print(0,1,end=\" \")\n",
    "for i in range(n-1):\n",
    "    s = prev+nxt\n",
    "    print(prev+nxt,end=\" \")\n",
    "    prev = nxt\n",
    "    nxt = s"
   ]
  },
  {
   "cell_type": "markdown",
   "id": "4e5742a8",
   "metadata": {},
   "source": [
    "# 09. Calculate Sum of digits"
   ]
  },
  {
   "cell_type": "code",
   "execution_count": 2,
   "id": "c9089ceb",
   "metadata": {},
   "outputs": [
    {
     "name": "stdout",
     "output_type": "stream",
     "text": [
      "10\n"
     ]
    }
   ],
   "source": [
    "n = 1234\n",
    "s = 0\n",
    "while n:\n",
    "    last = n%10\n",
    "    s += last\n",
    "    n = n//10\n",
    "print(s)"
   ]
  },
  {
   "cell_type": "markdown",
   "id": "ae2d4ab2",
   "metadata": {},
   "source": [
    "# 10. Calculate Occurence of digit"
   ]
  },
  {
   "cell_type": "code",
   "execution_count": 10,
   "id": "7296799d",
   "metadata": {},
   "outputs": [
    {
     "name": "stdout",
     "output_type": "stream",
     "text": [
      "3\n"
     ]
    }
   ],
   "source": [
    "n = 1234511\n",
    "digit_to_count = 1\n",
    "count = 0\n",
    "while n:\n",
    "    last = n%10\n",
    "    if last == digit_to_count:\n",
    "        count += 1\n",
    "    n = n//10\n",
    "print(count)"
   ]
  },
  {
   "cell_type": "markdown",
   "id": "50af98bb",
   "metadata": {},
   "source": [
    "# 11. Reverse of a Number"
   ]
  },
  {
   "cell_type": "code",
   "execution_count": 12,
   "id": "df07ce96",
   "metadata": {},
   "outputs": [
    {
     "name": "stdout",
     "output_type": "stream",
     "text": [
      "321\n"
     ]
    }
   ],
   "source": [
    "n = 123\n",
    "s = 0\n",
    "while n:\n",
    "    last = n%10\n",
    "    s = s * 10 + last\n",
    "    n = n//10\n",
    "print(s)"
   ]
  },
  {
   "cell_type": "markdown",
   "id": "6b530d1d",
   "metadata": {},
   "source": [
    "# 12. ASCII Table"
   ]
  },
  {
   "cell_type": "code",
   "execution_count": 15,
   "id": "3cead906",
   "metadata": {
    "collapsed": true
   },
   "outputs": [
    {
     "name": "stdout",
     "output_type": "stream",
     "text": [
      "0 \u0000\n",
      "1 \u0001\n",
      "2 \u0002\n",
      "3 \u0003\n",
      "4 \u0004\n",
      "5 \u0005\n",
      "6 \u0006\n",
      "7 \u0007\n",
      "8 \b\n",
      "9 \t\n",
      "10 \n",
      "\n",
      "11 \u000b",
      "\n",
      "12 \f",
      "\n",
      "13 \r\n",
      "14 \u000e\n",
      "15 \u000f\n",
      "16 \u0010\n",
      "17 \u0011\n",
      "18 \u0012\n",
      "19 \u0013\n",
      "20 \u0014\n",
      "21 \u0015\n",
      "22 \u0016\n",
      "23 \u0017\n",
      "24 \u0018\n",
      "25 \u0019\n",
      "26 \u001a\n",
      "27 \u001b\n",
      "28 \u001c",
      "\n",
      "29 \u001d",
      "\n",
      "30 \u001e",
      "\n",
      "31 \u001f\n",
      "32  \n",
      "33 !\n",
      "34 \"\n",
      "35 #\n",
      "36 $\n",
      "37 %\n",
      "38 &\n",
      "39 '\n",
      "40 (\n",
      "41 )\n",
      "42 *\n",
      "43 +\n",
      "44 ,\n",
      "45 -\n",
      "46 .\n",
      "47 /\n",
      "48 0\n",
      "49 1\n",
      "50 2\n",
      "51 3\n",
      "52 4\n",
      "53 5\n",
      "54 6\n",
      "55 7\n",
      "56 8\n",
      "57 9\n",
      "58 :\n",
      "59 ;\n",
      "60 <\n",
      "61 =\n",
      "62 >\n",
      "63 ?\n",
      "64 @\n",
      "65 A\n",
      "66 B\n",
      "67 C\n",
      "68 D\n",
      "69 E\n",
      "70 F\n",
      "71 G\n",
      "72 H\n",
      "73 I\n",
      "74 J\n",
      "75 K\n",
      "76 L\n",
      "77 M\n",
      "78 N\n",
      "79 O\n",
      "80 P\n",
      "81 Q\n",
      "82 R\n",
      "83 S\n",
      "84 T\n",
      "85 U\n",
      "86 V\n",
      "87 W\n",
      "88 X\n",
      "89 Y\n",
      "90 Z\n",
      "91 [\n",
      "92 \\\n",
      "93 ]\n",
      "94 ^\n",
      "95 _\n",
      "96 `\n",
      "97 a\n",
      "98 b\n",
      "99 c\n",
      "100 d\n",
      "101 e\n",
      "102 f\n",
      "103 g\n",
      "104 h\n",
      "105 i\n",
      "106 j\n",
      "107 k\n",
      "108 l\n",
      "109 m\n",
      "110 n\n",
      "111 o\n",
      "112 p\n",
      "113 q\n",
      "114 r\n",
      "115 s\n",
      "116 t\n",
      "117 u\n",
      "118 v\n",
      "119 w\n",
      "120 x\n",
      "121 y\n",
      "122 z\n",
      "123 {\n",
      "124 |\n",
      "125 }\n",
      "126 ~\n",
      "127 \n"
     ]
    }
   ],
   "source": [
    "for i in range(128):\n",
    "    print(i,chr(i))"
   ]
  },
  {
   "cell_type": "markdown",
   "id": "9a851636",
   "metadata": {},
   "source": [
    "# 13. Determine Case of Alphabet"
   ]
  },
  {
   "cell_type": "code",
   "execution_count": 19,
   "id": "05c52aa2",
   "metadata": {},
   "outputs": [
    {
     "name": "stdout",
     "output_type": "stream",
     "text": [
      "upper\n"
     ]
    }
   ],
   "source": [
    "char = 'Z'\n",
    "if char >= 'a' and char <= 'z':\n",
    "    print(\"lower\")\n",
    "elif char >= 'A' and char <= 'Z':\n",
    "    print(\"upper\")\n",
    "else:\n",
    "    print(\"invalid\")"
   ]
  },
  {
   "cell_type": "markdown",
   "id": "d929fd70",
   "metadata": {},
   "source": [
    "# 14. Print All Alphabets in Uppercase"
   ]
  },
  {
   "cell_type": "code",
   "execution_count": 25,
   "id": "7549e4fe",
   "metadata": {},
   "outputs": [
    {
     "name": "stdout",
     "output_type": "stream",
     "text": [
      "A\n",
      "B\n",
      "C\n",
      "D\n",
      "E\n",
      "F\n",
      "G\n",
      "H\n",
      "I\n",
      "J\n",
      "K\n",
      "L\n",
      "M\n",
      "N\n",
      "O\n",
      "P\n",
      "Q\n",
      "R\n",
      "S\n",
      "T\n",
      "U\n",
      "V\n",
      "W\n",
      "X\n",
      "Y\n",
      "Z\n"
     ]
    }
   ],
   "source": [
    "for char in range(ord('A'), ord('Z')+1):\n",
    "    print(chr(char))"
   ]
  },
  {
   "cell_type": "markdown",
   "id": "9cb325da",
   "metadata": {},
   "source": [
    "# 15. Convert Decimal To Binary"
   ]
  },
  {
   "cell_type": "code",
   "execution_count": 35,
   "id": "9c8b39f1",
   "metadata": {},
   "outputs": [
    {
     "name": "stdout",
     "output_type": "stream",
     "text": [
      "0 0 0 0 1 0 1 0 "
     ]
    }
   ],
   "source": [
    "n = 10\n",
    "l = [0 for i in range(8)]\n",
    "i = 0\n",
    "while n:\n",
    "    l[i] = n%2\n",
    "    i += 1\n",
    "    n = n//2\n",
    "for i in range(len(l)-1,-1,-1):\n",
    "    print(l[i],end=\" \")"
   ]
  },
  {
   "cell_type": "markdown",
   "id": "b55bcb45",
   "metadata": {},
   "source": [
    "# 16. Print first N even numbers"
   ]
  },
  {
   "cell_type": "code",
   "execution_count": 8,
   "id": "044c7f1e",
   "metadata": {},
   "outputs": [
    {
     "name": "stdout",
     "output_type": "stream",
     "text": [
      "2 4 6 8 10 "
     ]
    }
   ],
   "source": [
    "n = 1\n",
    "i = 2\n",
    "while n<=5:\n",
    "    print(i,end=\" \")\n",
    "    i = i+2\n",
    "    n += 1\n",
    "#-----------------OR-----------------------\n",
    "# n = 5\n",
    "# for i in range(1, n+1):\n",
    "#     print(i*2,end= \" \")"
   ]
  },
  {
   "cell_type": "markdown",
   "id": "5fc280b9",
   "metadata": {},
   "source": [
    "# 17. Print first N odd numbers"
   ]
  },
  {
   "cell_type": "code",
   "execution_count": 11,
   "id": "afa63bfe",
   "metadata": {},
   "outputs": [
    {
     "name": "stdout",
     "output_type": "stream",
     "text": [
      "1 3 5 7 9 "
     ]
    }
   ],
   "source": [
    "n = 1\n",
    "i = 1\n",
    "while n<=5:\n",
    "    print(i,end=\" \")\n",
    "    i = i+2\n",
    "    n += 1"
   ]
  },
  {
   "cell_type": "markdown",
   "id": "6c89cc9f",
   "metadata": {},
   "source": [
    "# 18. Calculate Power of a Number"
   ]
  },
  {
   "cell_type": "code",
   "execution_count": 21,
   "id": "3763ac59",
   "metadata": {},
   "outputs": [
    {
     "name": "stdout",
     "output_type": "stream",
     "text": [
      "64\n"
     ]
    }
   ],
   "source": [
    "n = 4\n",
    "power = 3\n",
    "res = 1\n",
    "for i in range(power):\n",
    "    res *= n\n",
    "print(res)\n"
   ]
  },
  {
   "cell_type": "markdown",
   "id": "f8632fae",
   "metadata": {},
   "source": [
    "# 19. Find LCM of two numbers"
   ]
  },
  {
   "cell_type": "code",
   "execution_count": 35,
   "id": "b2cc9d17",
   "metadata": {},
   "outputs": [
    {
     "name": "stdout",
     "output_type": "stream",
     "text": [
      "54\n"
     ]
    }
   ],
   "source": [
    "n1 = 54\n",
    "n2 = 27\n",
    "for i in range(2, (n1*n2)+1):\n",
    "    if i%n1 == 0 and i%n2==0:\n",
    "        print(i)\n",
    "        break\n",
    "        \n",
    "#----------------improved logic---------------------------\n",
    "\n",
    "# n1 = 7\n",
    "# n2 = 14\n",
    "# larger = n1 if n1>n2 else n2\n",
    "# for i in range(larger, (n1*n2)+1):\n",
    "#     if i%n1 == 0 and i%n2==0:\n",
    "#         print(i)\n",
    "#         break"
   ]
  },
  {
   "cell_type": "markdown",
   "id": "96074adb",
   "metadata": {},
   "source": [
    "# 20. Find HCF of two numbers"
   ]
  },
  {
   "cell_type": "code",
   "execution_count": 36,
   "id": "37def0b0",
   "metadata": {},
   "outputs": [
    {
     "name": "stdout",
     "output_type": "stream",
     "text": [
      "17\n",
      "17\n"
     ]
    }
   ],
   "source": [
    "n1 = 34\n",
    "n2 = 17\n",
    "larger= larger = n1 if n1>n2 else n2\n",
    "for i in range(2, larger+1):\n",
    "    if n1%i==0 and n2%i==0:\n",
    "        hcf = i\n",
    "print(hcf)\n",
    "\n",
    "#----------------improved logic---------------------------\n",
    "# n1 = 17\n",
    "# n2 = 34\n",
    "# larger= larger = n1 if n1>n2 else n2\n",
    "# for i in range(larger, 0, -1):\n",
    "#     if n1%i==0 and n2%i==0:\n",
    "#         print(i)\n",
    "#         break"
   ]
  },
  {
   "cell_type": "markdown",
   "id": "3d22f4e9",
   "metadata": {},
   "source": [
    "# 21. Check if the number is Armstrong"
   ]
  },
  {
   "cell_type": "code",
   "execution_count": 53,
   "id": "06626025",
   "metadata": {},
   "outputs": [
    {
     "name": "stdout",
     "output_type": "stream",
     "text": [
      "armstrong\n"
     ]
    }
   ],
   "source": [
    "# An Armstrong number of three digits is an integer such that the sum of the cubes of its digits is equal to the number itself.\n",
    "# For example, 371 is an Armstrong number since 3**3 + 7**3 + 1**3 = 371\n",
    "\n",
    "n = 371\n",
    "num = n\n",
    "s = 0\n",
    "while n:\n",
    "    last = n%10\n",
    "    s += last ** 3\n",
    "    n = n//10\n",
    "print(\"armstrong\") if num == s else print(\"not armstrong\")"
   ]
  },
  {
   "cell_type": "markdown",
   "id": "49824d22",
   "metadata": {},
   "source": [
    "# 22. Print Armstrong number between 1 to 1000"
   ]
  },
  {
   "cell_type": "code",
   "execution_count": 57,
   "id": "5061ffd2",
   "metadata": {},
   "outputs": [
    {
     "name": "stdout",
     "output_type": "stream",
     "text": [
      "1\n",
      "153\n",
      "370\n",
      "371\n",
      "407\n"
     ]
    }
   ],
   "source": [
    "for num in range(1,1000+1):\n",
    "    n = num\n",
    "    s = 0\n",
    "    while n:\n",
    "        last = n%10\n",
    "        s += last ** 3\n",
    "        n = n//10\n",
    "    if s == num:\n",
    "        print(s)"
   ]
  },
  {
   "cell_type": "markdown",
   "id": "7343dca0",
   "metadata": {},
   "source": [
    "# 23. Print prime numbers between a given range"
   ]
  },
  {
   "cell_type": "code",
   "execution_count": 60,
   "id": "11315fcd",
   "metadata": {},
   "outputs": [
    {
     "name": "stdout",
     "output_type": "stream",
     "text": [
      "1\n",
      "2\n",
      "3\n",
      "5\n",
      "7\n",
      "11\n",
      "13\n",
      "17\n",
      "19\n"
     ]
    }
   ],
   "source": [
    "a = 1\n",
    "b = 20\n",
    "for n in range(a, b+1):\n",
    "    flag = True\n",
    "    for i in range(2, (n//2)+1):\n",
    "        if n%i == 0:\n",
    "            flag = False\n",
    "            break\n",
    "    if flag == True:\n",
    "        print(n)\n",
    "        "
   ]
  },
  {
   "cell_type": "markdown",
   "id": "2a7652c0",
   "metadata": {},
   "source": [
    "# 24. Check if number is co prime or not"
   ]
  },
  {
   "cell_type": "code",
   "execution_count": 74,
   "id": "e320a724",
   "metadata": {},
   "outputs": [
    {
     "name": "stdout",
     "output_type": "stream",
     "text": [
      "co prime\n"
     ]
    }
   ],
   "source": [
    "# Co prime number is a pair of number which don't have common factors other than 1\n",
    "# e.g (8,15)\n",
    "# 8 = 1,2,4,8\n",
    "# 15=  1,3,5,15\n",
    "# Explanation :  factors of 8 & 5 don;t have a common factor other than 1\n",
    "\n",
    "a = 8\n",
    "b = 15\n",
    "smaller = a if a<b else b\n",
    "for i in range(smaller, 1, -1):\n",
    "    flag = True\n",
    "    if a%i == 0 and b%i ==0:\n",
    "        flag = False\n",
    "        break\n",
    "print(\"co prime\") if flag else print(\"not co prime\")"
   ]
  },
  {
   "cell_type": "markdown",
   "id": "9d5ab029",
   "metadata": {},
   "source": [
    "# 25. Express the numbers as a sum of 2 prime numbers"
   ]
  },
  {
   "cell_type": "code",
   "execution_count": 83,
   "id": "1f2591ec",
   "metadata": {},
   "outputs": [
    {
     "name": "stdout",
     "output_type": "stream",
     "text": [
      "3 31\n",
      "5 29\n",
      "11 23\n",
      "17 17\n"
     ]
    }
   ],
   "source": [
    "# find two numbers such that it's sum is equal to original number & \n",
    "# both numbers should be prime\n",
    "# given no = 34\n",
    "# 3 31\n",
    "# 5 29\n",
    "# 11 23\n",
    "# 17 17\n",
    "\n",
    "def isPrime(n):\n",
    "    flag = True\n",
    "    for i in range(2,(n//2)+1):\n",
    "        if n%i == 0:\n",
    "            flag = False\n",
    "            break\n",
    "    res =  True if flag else False\n",
    "    return res\n",
    "\n",
    "num = 34\n",
    "for n in range(2, (num//2)+1 ):\n",
    "    if isPrime(n) and isPrime(num-n):\n",
    "        print(n, num-n)"
   ]
  },
  {
   "cell_type": "markdown",
   "id": "257c31b2",
   "metadata": {},
   "source": [
    "# 26. Check if a number is Palindrome or Not"
   ]
  },
  {
   "cell_type": "code",
   "execution_count": 35,
   "id": "e2a70233",
   "metadata": {},
   "outputs": [
    {
     "name": "stdout",
     "output_type": "stream",
     "text": [
      "Palindrome\n"
     ]
    }
   ],
   "source": [
    "n = 101\n",
    "num = n\n",
    "rev = 0\n",
    "while n:\n",
    "    last = n%10\n",
    "    rev = rev*10 + last\n",
    "    n = n//10\n",
    "print(\"Palindrome\") if num == rev else print(\"not Palindrome\")"
   ]
  },
  {
   "cell_type": "markdown",
   "id": "285dd7e8",
   "metadata": {},
   "source": [
    "# 27. Find sum of series"
   ]
  },
  {
   "cell_type": "code",
   "execution_count": 10,
   "id": "8ad490ca",
   "metadata": {},
   "outputs": [
    {
     "name": "stdout",
     "output_type": "stream",
     "text": [
      "10\n"
     ]
    }
   ],
   "source": [
    "# // 1 + (1+2) + (1+2+3) + ....... +(1+2+3+4.....n)\n",
    "\n",
    "n = 3\n",
    "res = 0\n",
    "for t in range(1, n+1):\n",
    "    s = 0\n",
    "    for i in range(1, t+1):\n",
    "        s += i\n",
    "    res += s\n",
    "print(res)"
   ]
  },
  {
   "cell_type": "markdown",
   "id": "26385094",
   "metadata": {},
   "source": [
    "# 28. Check if the number is Strong"
   ]
  },
  {
   "cell_type": "code",
   "execution_count": 13,
   "id": "c1e52531",
   "metadata": {},
   "outputs": [
    {
     "name": "stdout",
     "output_type": "stream",
     "text": [
      "strong number\n"
     ]
    }
   ],
   "source": [
    "# A strong number is a number whose sum of the factorial of it's digit\n",
    "# is equal to the original number\n",
    "# eg. 145 = !1 + !4 + !5\n",
    "\n",
    "n = 145\n",
    "num = n\n",
    "res = 0\n",
    "while n:\n",
    "    p = 1\n",
    "    last = n%10\n",
    "    for i in range(1,last+1):\n",
    "        p *= i\n",
    "    n = n//10\n",
    "    res += p\n",
    "print(\"strong number\") if res == num else print(\"not armstrong\")"
   ]
  },
  {
   "cell_type": "markdown",
   "id": "f0260431",
   "metadata": {},
   "source": [
    "# 29. Check if the number is Spy"
   ]
  },
  {
   "cell_type": "code",
   "execution_count": 15,
   "id": "a956da7e",
   "metadata": {},
   "outputs": [
    {
     "name": "stdout",
     "output_type": "stream",
     "text": [
      "spy\n"
     ]
    }
   ],
   "source": [
    "# A spy number is a number whose sum & product of it's digit is equal to each other\n",
    "# eg. 1412\n",
    "# sum = (1+4+1+2)\n",
    "# product = (1*4*1*2)\n",
    "# sum = product\n",
    "\n",
    "n = 1412\n",
    "s = 0\n",
    "p = 1\n",
    "while n:\n",
    "    last = n%10\n",
    "    s += last\n",
    "    p *= last\n",
    "    n = n//10\n",
    "print(\"spy\") if s == p else print(\"not spy\")"
   ]
  },
  {
   "cell_type": "markdown",
   "id": "356eeb3b",
   "metadata": {},
   "source": [
    "# 30. Print N Positive numbers with Two bit Set"
   ]
  },
  {
   "cell_type": "code",
   "execution_count": 13,
   "id": "662274ce",
   "metadata": {},
   "outputs": [
    {
     "name": "stdout",
     "output_type": "stream",
     "text": [
      "3\n",
      "5\n",
      "6\n"
     ]
    }
   ],
   "source": [
    "# two bit set means binary of a number should contain two 1's.(two bits ON)\n",
    "# 3 = 0011\n",
    "# 5 = 0101\n",
    "\n",
    "#----------------------------Optimal SolutionO(n)------------------------------\n",
    "num = 3\n",
    "n = 1\n",
    "c = 0\n",
    "x = 1\n",
    "while True:\n",
    "    if num == 0:\n",
    "        break\n",
    "    r = n%2\n",
    "    n = n//2\n",
    "    if r == 1:\n",
    "        c += 1\n",
    "    if n == 0:\n",
    "        if c == 2:\n",
    "            print(x)\n",
    "            num -= 1\n",
    "        x += 1\n",
    "        n = x\n",
    "        c = 0\n",
    "    \n",
    "#----------------------------Bruteforce SolutionO(n^2)------------------------------\n",
    "# num = 3\n",
    "# x = 1\n",
    "# while num:\n",
    "#     c = 0\n",
    "#     n = x\n",
    "#     while n:\n",
    "#         r = n%2\n",
    "#         if r == 1:\n",
    "#             c += 1\n",
    "#         n = n//2\n",
    "#     if c == 2:\n",
    "#         print(x)\n",
    "#         num -= 1\n",
    "#     x += 1"
   ]
  },
  {
   "cell_type": "code",
   "execution_count": null,
   "id": "b47c0907",
   "metadata": {},
   "outputs": [],
   "source": []
  }
 ],
 "metadata": {
  "kernelspec": {
   "display_name": "Python 3 (ipykernel)",
   "language": "python",
   "name": "python3"
  },
  "language_info": {
   "codemirror_mode": {
    "name": "ipython",
    "version": 3
   },
   "file_extension": ".py",
   "mimetype": "text/x-python",
   "name": "python",
   "nbconvert_exporter": "python",
   "pygments_lexer": "ipython3",
   "version": "3.10.4"
  }
 },
 "nbformat": 4,
 "nbformat_minor": 5
}
