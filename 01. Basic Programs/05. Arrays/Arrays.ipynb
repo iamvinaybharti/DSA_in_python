{
 "cells": [
  {
   "cell_type": "markdown",
   "id": "73c41b9a",
   "metadata": {},
   "source": [
    "# 01. Read 5 integers and Print"
   ]
  },
  {
   "cell_type": "code",
   "execution_count": 1,
   "id": "210dd98b",
   "metadata": {},
   "outputs": [
    {
     "name": "stdout",
     "output_type": "stream",
     "text": [
      "Enter 5 numbers:\n",
      "1\n",
      "2\n",
      "3\n",
      "4\n",
      "5\n",
      "5\n"
     ]
    }
   ],
   "source": [
    "size = 5\n",
    "l = []\n",
    "print(\"Enter 5 numbers:\")\n",
    "for i in range(5):\n",
    "    x = int(input())\n",
    "    l.append(x)\n",
    "print(x)"
   ]
  },
  {
   "cell_type": "markdown",
   "id": "b63c2f4b",
   "metadata": {},
   "source": [
    "# 02. Calculate Square in Array"
   ]
  },
  {
   "cell_type": "code",
   "execution_count": 4,
   "id": "3f596475",
   "metadata": {},
   "outputs": [
    {
     "name": "stdout",
     "output_type": "stream",
     "text": [
      "[1, 4, 9]\n"
     ]
    }
   ],
   "source": [
    "a = [1,2,3]\n",
    "for i,n in enumerate(a):\n",
    "    a[i] = n**2\n",
    "print(a)\n",
    "\n",
    "#or\n",
    "# a = [x **2 for x in a]\n",
    "# a"
   ]
  },
  {
   "cell_type": "markdown",
   "id": "7d26a682",
   "metadata": {},
   "source": [
    "# 03. Calculate Sum & Average"
   ]
  },
  {
   "cell_type": "code",
   "execution_count": 7,
   "id": "a1db98c5",
   "metadata": {},
   "outputs": [
    {
     "name": "stdout",
     "output_type": "stream",
     "text": [
      "sum : 6\n",
      "average : 2.0\n"
     ]
    }
   ],
   "source": [
    "a = [1,2,3]\n",
    "s = 0\n",
    "for x in a:\n",
    "    s += x\n",
    "print(\"sum :\",s)\n",
    "print(\"average :\", s/len(a))"
   ]
  },
  {
   "cell_type": "markdown",
   "id": "bb7866a4",
   "metadata": {},
   "source": [
    "# 04. Count Occurences"
   ]
  },
  {
   "cell_type": "code",
   "execution_count": 9,
   "id": "2e13a52e",
   "metadata": {},
   "outputs": [
    {
     "name": "stdout",
     "output_type": "stream",
     "text": [
      "3\n"
     ]
    }
   ],
   "source": [
    "a = [1,2,4,1,3,1]\n",
    "n = 1\n",
    "count = 0\n",
    "for x in a:\n",
    "    if x == n:\n",
    "        count+=1\n",
    "print(count)"
   ]
  },
  {
   "cell_type": "markdown",
   "id": "231a9c9f",
   "metadata": {},
   "source": [
    "# 05. Find Largest"
   ]
  },
  {
   "cell_type": "code",
   "execution_count": 14,
   "id": "3d115375",
   "metadata": {},
   "outputs": [
    {
     "name": "stdout",
     "output_type": "stream",
     "text": [
      "9\n"
     ]
    }
   ],
   "source": [
    "a = [2,8,4,3,9,6]\n",
    "largest = a[0]\n",
    "for x in a:\n",
    "    if x > largest:\n",
    "        largest = x\n",
    "print(largest)\n",
    "\n",
    "#or\n",
    "# max(a)"
   ]
  },
  {
   "cell_type": "markdown",
   "id": "1c38419b",
   "metadata": {},
   "source": [
    "# 06. Count Positive & Negative"
   ]
  },
  {
   "cell_type": "code",
   "execution_count": 21,
   "id": "3da6c46b",
   "metadata": {},
   "outputs": [
    {
     "name": "stdout",
     "output_type": "stream",
     "text": [
      "4\n",
      "2\n"
     ]
    }
   ],
   "source": [
    "a = [2,8,-3,12,7,-5]\n",
    "pos = 0\n",
    "neg = 0\n",
    "for x in a:\n",
    "    if x > 0:\n",
    "        pos += 1\n",
    "    else:\n",
    "        neg += 1\n",
    "print(pos)\n",
    "print(neg)\n",
    "\n",
    "#or\n",
    "# print(len(a)-pos) #neg"
   ]
  },
  {
   "cell_type": "markdown",
   "id": "bcceaf27",
   "metadata": {},
   "source": [
    "# 07. Print sum of even & odd number"
   ]
  },
  {
   "cell_type": "code",
   "execution_count": 23,
   "id": "90e78c57",
   "metadata": {},
   "outputs": [
    {
     "name": "stdout",
     "output_type": "stream",
     "text": [
      "12\n",
      "11\n"
     ]
    }
   ],
   "source": [
    "a = [1,2,9,4,1,6]\n",
    "even = odd = 0\n",
    "for x in a:\n",
    "    if x % 2 == 0:\n",
    "        even += x\n",
    "    else:\n",
    "        odd += x\n",
    "print(even)\n",
    "print(odd)\n",
    "#or\n",
    "#sum(a) - even ##for odd"
   ]
  },
  {
   "cell_type": "code",
   "execution_count": null,
   "id": "12020d30",
   "metadata": {},
   "outputs": [],
   "source": []
  }
 ],
 "metadata": {
  "kernelspec": {
   "display_name": "Python 3 (ipykernel)",
   "language": "python",
   "name": "python3"
  },
  "language_info": {
   "codemirror_mode": {
    "name": "ipython",
    "version": 3
   },
   "file_extension": ".py",
   "mimetype": "text/x-python",
   "name": "python",
   "nbconvert_exporter": "python",
   "pygments_lexer": "ipython3",
   "version": "3.10.4"
  }
 },
 "nbformat": 4,
 "nbformat_minor": 5
}
