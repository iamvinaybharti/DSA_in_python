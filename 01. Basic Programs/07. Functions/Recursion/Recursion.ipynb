{
 "cells": [
  {
   "cell_type": "markdown",
   "id": "a92ebb7e",
   "metadata": {},
   "source": [
    "# 01. Find Power of a Number"
   ]
  },
  {
   "cell_type": "code",
   "execution_count": 11,
   "id": "490bd499",
   "metadata": {},
   "outputs": [
    {
     "data": {
      "text/plain": [
       "8"
      ]
     },
     "execution_count": 11,
     "metadata": {},
     "output_type": "execute_result"
    }
   ],
   "source": [
    "def power(x,y):\n",
    "    if y == 0:\n",
    "        return 1\n",
    "    return x * power(x, y-1)\n",
    "power(2,3)"
   ]
  },
  {
   "cell_type": "markdown",
   "id": "a02c23b2",
   "metadata": {},
   "source": [
    "# 02. Sum of Cubes of first N natural Numbers"
   ]
  },
  {
   "cell_type": "code",
   "execution_count": 14,
   "id": "2f48812d",
   "metadata": {},
   "outputs": [
    {
     "data": {
      "text/plain": [
       "9"
      ]
     },
     "execution_count": 14,
     "metadata": {},
     "output_type": "execute_result"
    }
   ],
   "source": [
    "def sumOfCubes(n):\n",
    "    if n == 1:\n",
    "        return 1\n",
    "    return n ** 3 + sumOfCubes(n-1)\n",
    "\n",
    "sumOfCubes(2)"
   ]
  },
  {
   "cell_type": "markdown",
   "id": "72af2ed4",
   "metadata": {},
   "source": [
    "# 03. Find Sum of Digits"
   ]
  },
  {
   "cell_type": "code",
   "execution_count": 17,
   "id": "763e9fc9",
   "metadata": {},
   "outputs": [
    {
     "data": {
      "text/plain": [
       "10"
      ]
     },
     "execution_count": 17,
     "metadata": {},
     "output_type": "execute_result"
    }
   ],
   "source": [
    "def sumOfDigits(n):\n",
    "    if n == 0:\n",
    "        return 0\n",
    "    return n%10 + sumOfDigits(n//10)\n",
    "\n",
    "sumOfDigits(1234)"
   ]
  },
  {
   "cell_type": "markdown",
   "id": "c3990b61",
   "metadata": {},
   "source": [
    "# 04. Find Sum of Squares of Digit"
   ]
  },
  {
   "cell_type": "code",
   "execution_count": 22,
   "id": "a07f7626",
   "metadata": {},
   "outputs": [
    {
     "data": {
      "text/plain": [
       "14"
      ]
     },
     "execution_count": 22,
     "metadata": {},
     "output_type": "execute_result"
    }
   ],
   "source": [
    "def sumOfSquaresOfDigit(n):\n",
    "    if n == 1:\n",
    "        return 1\n",
    "    return (n%10) ** 2 + sumOfSquaresOfDigit(n//10)\n",
    "\n",
    "sumOfSquaresOfDigit(123)"
   ]
  },
  {
   "cell_type": "markdown",
   "id": "77253a61",
   "metadata": {},
   "source": [
    "# 05. Print N natural numbers"
   ]
  },
  {
   "cell_type": "code",
   "execution_count": 2,
   "id": "f129861b",
   "metadata": {},
   "outputs": [
    {
     "name": "stdout",
     "output_type": "stream",
     "text": [
      "1\n",
      "2\n",
      "3\n",
      "4\n",
      "5\n"
     ]
    }
   ],
   "source": [
    "def printNnumbers(n):\n",
    "    if n == 1:\n",
    "        print(1)\n",
    "        return\n",
    "    printNnumbers(n-1)\n",
    "    print(n)\n",
    "printNnumbers(5)"
   ]
  },
  {
   "cell_type": "markdown",
   "id": "6425982c",
   "metadata": {},
   "source": [
    "# 06. Print N natural numbers in reverse"
   ]
  },
  {
   "cell_type": "code",
   "execution_count": 3,
   "id": "a2b7cf14",
   "metadata": {},
   "outputs": [
    {
     "name": "stdout",
     "output_type": "stream",
     "text": [
      "5\n",
      "4\n",
      "3\n",
      "2\n",
      "1\n"
     ]
    }
   ],
   "source": [
    "def printNnumbers(n):\n",
    "    if n == 1:\n",
    "        print(1)\n",
    "        return\n",
    "    print(n)\n",
    "    printNnumbers(n-1)\n",
    "printNnumbers(5)"
   ]
  },
  {
   "cell_type": "markdown",
   "id": "c16d5491",
   "metadata": {},
   "source": [
    "# 07. Factorial"
   ]
  },
  {
   "cell_type": "code",
   "execution_count": 4,
   "id": "a3c1075b",
   "metadata": {},
   "outputs": [
    {
     "data": {
      "text/plain": [
       "120"
      ]
     },
     "execution_count": 4,
     "metadata": {},
     "output_type": "execute_result"
    }
   ],
   "source": [
    "def fact(n):\n",
    "    if n == 1:\n",
    "        return 1\n",
    "    return n * fact(n-1)\n",
    "fact(5)"
   ]
  },
  {
   "cell_type": "markdown",
   "id": "13a0a3ad",
   "metadata": {},
   "source": [
    "# 08. Fibonacci Series"
   ]
  },
  {
   "cell_type": "code",
   "execution_count": 1,
   "id": "1a501d71",
   "metadata": {},
   "outputs": [
    {
     "name": "stdout",
     "output_type": "stream",
     "text": [
      "1 1 2 3 5 8 13 21 34 55 "
     ]
    }
   ],
   "source": [
    "def fib(n):\n",
    "    if n == 0 or n == 1:\n",
    "        return 1\n",
    "    return fib(n-1) + fib(n-2)\n",
    "\n",
    "for i in range(10):\n",
    "    print(fib(i),end=\" \")\n",
    "    "
   ]
  },
  {
   "cell_type": "markdown",
   "id": "357c7d78",
   "metadata": {},
   "source": [
    "# 09. Check if the number is Super Digit"
   ]
  },
  {
   "cell_type": "code",
   "execution_count": 9,
   "id": "ad4f7230",
   "metadata": {},
   "outputs": [
    {
     "data": {
      "text/plain": [
       "7"
      ]
     },
     "execution_count": 9,
     "metadata": {},
     "output_type": "execute_result"
    }
   ],
   "source": [
    "def superDigit(n):\n",
    "    if n//10 == 0:\n",
    "        return n\n",
    "    return superDigit(n%10 + n//10)\n",
    "\n",
    "superDigit(513682)"
   ]
  },
  {
   "cell_type": "code",
   "execution_count": null,
   "id": "234d2029",
   "metadata": {},
   "outputs": [],
   "source": []
  }
 ],
 "metadata": {
  "kernelspec": {
   "display_name": "Python 3 (ipykernel)",
   "language": "python",
   "name": "python3"
  },
  "language_info": {
   "codemirror_mode": {
    "name": "ipython",
    "version": 3
   },
   "file_extension": ".py",
   "mimetype": "text/x-python",
   "name": "python",
   "nbconvert_exporter": "python",
   "pygments_lexer": "ipython3",
   "version": "3.10.4"
  }
 },
 "nbformat": 4,
 "nbformat_minor": 5
}
