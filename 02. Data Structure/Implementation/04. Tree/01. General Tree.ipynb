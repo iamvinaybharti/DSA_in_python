{
 "cells": [
  {
   "cell_type": "markdown",
   "id": "f226c66e",
   "metadata": {},
   "source": [
    "<center><h1>General Tree</h1></center>"
   ]
  },
  {
   "cell_type": "code",
   "execution_count": 18,
   "id": "f7f9b30a",
   "metadata": {},
   "outputs": [
    {
     "name": "stdout",
     "output_type": "stream",
     "text": [
      "Electronics\n",
      "   |_ _Laptop\n",
      "      |_ _Mac\n",
      "      |_ _Surface\n",
      "      |_ _Thinkpad\n",
      "   |_ _Cell Phone\n",
      "      |_ _iPhone\n",
      "      |_ _Google Pixel\n",
      "      |_ _Vivo\n",
      "   |_ _Tv\n",
      "      |_ _Samsung\n",
      "      |_ _LG\n"
     ]
    }
   ],
   "source": [
    "class TreeNode:\n",
    "    def __init__(self, data):\n",
    "        self.data = data\n",
    "        self.children = []\n",
    "        self.parent = None\n",
    "        \n",
    "    def add_child(self, child):\n",
    "        child.parent = self\n",
    "        self.children.append(child)\n",
    "        \n",
    "    def print_tree(self):\n",
    "        spaces = ' ' * self.get_level() * 3\n",
    "        prefix = spaces + \"|_ _\" if self.parent else \"\"\n",
    "        print(prefix + self.data)\n",
    "        for child in self.children:\n",
    "            child.print_tree()\n",
    "            \n",
    "    def get_level(self):\n",
    "        level = 0\n",
    "        p = self.parent\n",
    "        while p:\n",
    "            level += 1\n",
    "            p = p.parent\n",
    "        return level\n",
    "    \n",
    "def build_product_tree():\n",
    "    root = TreeNode(\"Electronics\")\n",
    "    \n",
    "    laptop = TreeNode(\"Laptop\")\n",
    "    laptop.add_child(TreeNode(\"Mac\"))\n",
    "    laptop.add_child(TreeNode(\"Surface\"))\n",
    "    laptop.add_child(TreeNode(\"Thinkpad\"))\n",
    "    \n",
    "    cellphone = TreeNode(\"Cell Phone\")\n",
    "    cellphone.add_child(TreeNode(\"iPhone\"))\n",
    "    cellphone.add_child(TreeNode(\"Google Pixel\"))\n",
    "    cellphone.add_child(TreeNode(\"Vivo\"))\n",
    "    \n",
    "    tv = TreeNode(\"Tv\")\n",
    "    tv.add_child(TreeNode(\"Samsung\"))\n",
    "    tv.add_child(TreeNode(\"LG\"))\n",
    "    \n",
    "    root.add_child(laptop)\n",
    "    root.add_child(cellphone)\n",
    "    root.add_child(tv)\n",
    "    \n",
    "    root.print_tree()\n",
    "    \n",
    "root = build_product_tree()\n"
   ]
  },
  {
   "cell_type": "code",
   "execution_count": null,
   "id": "cf124978",
   "metadata": {},
   "outputs": [],
   "source": []
  }
 ],
 "metadata": {
  "kernelspec": {
   "display_name": "Python 3 (ipykernel)",
   "language": "python",
   "name": "python3"
  },
  "language_info": {
   "codemirror_mode": {
    "name": "ipython",
    "version": 3
   },
   "file_extension": ".py",
   "mimetype": "text/x-python",
   "name": "python",
   "nbconvert_exporter": "python",
   "pygments_lexer": "ipython3",
   "version": "3.10.4"
  }
 },
 "nbformat": 4,
 "nbformat_minor": 5
}
