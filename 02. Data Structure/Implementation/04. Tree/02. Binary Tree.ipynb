{
 "cells": [
  {
   "cell_type": "markdown",
   "id": "f97df97b",
   "metadata": {},
   "source": [
    "<center><h1>Binary Tree</h1></center>"
   ]
  },
  {
   "cell_type": "code",
   "execution_count": 4,
   "id": "ac8dfe82",
   "metadata": {},
   "outputs": [],
   "source": [
    "class Node:\n",
    "    def __init__(self, value):\n",
    "        self.value = value\n",
    "        self.left = None\n",
    "        self.right = None\n",
    "        \n",
    "class BinaryTree:\n",
    "    def __init__(self, root):\n",
    "        self.root = Node(root)\n",
    "        \n",
    "tree = BinaryTree(1)\n",
    "tree.root.left = Node(2)\n",
    "tree.root.right = Node(3)\n",
    "tree.root.left.left = Node(4)\n",
    "tree.root.left.right = Node(5)\n",
    "tree.root.right.left = Node(6)\n",
    "tree.root.right.right = Node(7)"
   ]
  },
  {
   "cell_type": "markdown",
   "id": "1b8ae3c2",
   "metadata": {},
   "source": [
    "# Preorder Traversal"
   ]
  },
  {
   "cell_type": "code",
   "execution_count": 5,
   "id": "67731446",
   "metadata": {},
   "outputs": [
    {
     "data": {
      "text/plain": [
       "'1-2-4-5-3-6-7-'"
      ]
     },
     "execution_count": 5,
     "metadata": {},
     "output_type": "execute_result"
    }
   ],
   "source": [
    "class Node:\n",
    "    def __init__(self, value):\n",
    "        self.value = value\n",
    "        self.left = None\n",
    "        self.right = None\n",
    "        \n",
    "class BinaryTree:\n",
    "    def __init__(self, root):\n",
    "        self.root = Node(root)\n",
    "        \n",
    "    def print_tree(self, traversal_type):\n",
    "        if traversal_type == \"preorder\":\n",
    "            return self.preorder(tree.root, \"\")\n",
    "        else:\n",
    "            print(\"Traversal type is not supported\")\n",
    "            return False\n",
    "        \n",
    "        \n",
    "    def preorder(self, start, traversal):\n",
    "        if start:\n",
    "            traversal += str(start.value) + \"-\"\n",
    "            traversal = self.preorder(start.left, traversal)\n",
    "            traversal = self.preorder(start.right, traversal)\n",
    "        return traversal\n",
    "            \n",
    "        \n",
    "tree = BinaryTree(1)\n",
    "tree.root.left = Node(2)\n",
    "tree.root.right = Node(3)\n",
    "tree.root.left.left = Node(4)\n",
    "tree.root.left.right = Node(5)\n",
    "tree.root.right.left = Node(6)\n",
    "tree.root.right.right = Node(7)\n",
    "\n",
    "\n",
    "tree.print_tree(\"preorder\")"
   ]
  },
  {
   "cell_type": "markdown",
   "id": "2b432ebe",
   "metadata": {},
   "source": [
    "# in-order Traversal"
   ]
  },
  {
   "cell_type": "code",
   "execution_count": 8,
   "id": "a9f0f450",
   "metadata": {},
   "outputs": [
    {
     "data": {
      "text/plain": [
       "'4-2-5-1-6-3-7-'"
      ]
     },
     "execution_count": 8,
     "metadata": {},
     "output_type": "execute_result"
    }
   ],
   "source": [
    "class Node:\n",
    "    def __init__(self, value):\n",
    "        self.value = value\n",
    "        self.left = None\n",
    "        self.right = None\n",
    "        \n",
    "class BinaryTree:\n",
    "    def __init__(self, root):\n",
    "        self.root = Node(root)\n",
    "        \n",
    "    def print_tree(self, traversal_type):\n",
    "        if traversal_type == \"inorder\":\n",
    "            return self.inorder(tree.root, \"\")\n",
    "        else:\n",
    "            print(\"Traversal type is not supported\")\n",
    "            return False\n",
    "        \n",
    "        \n",
    "    def inorder(self, start, traversal):\n",
    "        if start:\n",
    "            traversal = self.inorder(start.left, traversal)\n",
    "            traversal += str(start.value) + \"-\"\n",
    "            traversal = self.inorder(start.right, traversal)\n",
    "        return traversal\n",
    "            \n",
    "        \n",
    "tree = BinaryTree(1)\n",
    "tree.root.left = Node(2)\n",
    "tree.root.right = Node(3)\n",
    "tree.root.left.left = Node(4)\n",
    "tree.root.left.right = Node(5)\n",
    "tree.root.right.left = Node(6)\n",
    "tree.root.right.right = Node(7)\n",
    "\n",
    "\n",
    "tree.print_tree(\"inorder\")"
   ]
  },
  {
   "cell_type": "markdown",
   "id": "2451589b",
   "metadata": {},
   "source": [
    "# Post Order Traversal"
   ]
  },
  {
   "cell_type": "code",
   "execution_count": 3,
   "id": "e2a91d51",
   "metadata": {},
   "outputs": [
    {
     "data": {
      "text/plain": [
       "'4-5-2-6-7-3-1-'"
      ]
     },
     "execution_count": 3,
     "metadata": {},
     "output_type": "execute_result"
    }
   ],
   "source": [
    "class Node:\n",
    "    def __init__(self, value):\n",
    "        self.value = value\n",
    "        self.left = None\n",
    "        self.right = None\n",
    "        \n",
    "class BinaryTree:\n",
    "    def __init__(self, root):\n",
    "        self.root = Node(root)\n",
    "        \n",
    "    def print_tree(self, traversal_type):\n",
    "        if traversal_type == \"postorder\":\n",
    "            return self.postorder(tree.root, \"\")\n",
    "        else:\n",
    "            print(\"Traversal type is not supported\")\n",
    "            return False\n",
    "        \n",
    "    def postorder(self, start, traversal):\n",
    "        if start:\n",
    "            traversal = self.postorder(start.left, traversal)\n",
    "            traversal = self.postorder(start.right, traversal)\n",
    "            traversal += str(start.value) + \"-\"\n",
    "        return traversal\n",
    "            \n",
    "        \n",
    "tree = BinaryTree(1)\n",
    "tree.root.left = Node(2)\n",
    "tree.root.right = Node(3)\n",
    "tree.root.left.left = Node(4)\n",
    "tree.root.left.right = Node(5)\n",
    "tree.root.right.left = Node(6)\n",
    "tree.root.right.right = Node(7)\n",
    "\n",
    "\n",
    "tree.print_tree(\"postorder\")"
   ]
  }
 ],
 "metadata": {
  "kernelspec": {
   "display_name": "Python 3 (ipykernel)",
   "language": "python",
   "name": "python3"
  },
  "language_info": {
   "codemirror_mode": {
    "name": "ipython",
    "version": 3
   },
   "file_extension": ".py",
   "mimetype": "text/x-python",
   "name": "python",
   "nbconvert_exporter": "python",
   "pygments_lexer": "ipython3",
   "version": "3.10.4"
  }
 },
 "nbformat": 4,
 "nbformat_minor": 5
}
