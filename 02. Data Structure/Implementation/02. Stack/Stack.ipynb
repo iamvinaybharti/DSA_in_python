{
 "cells": [
  {
   "cell_type": "markdown",
   "id": "e79eab05",
   "metadata": {},
   "source": [
    "<center><h1>Stack</h1></center>"
   ]
  },
  {
   "cell_type": "markdown",
   "id": "3834086f",
   "metadata": {},
   "source": [
    "<h2>Implementation of stack in Python :</h2>\n",
    "    <li>List </li>\n",
    "    <li>Collections.deque</li>\n",
    "    <li>queue.LifoQueue</li>"
   ]
  },
  {
   "cell_type": "markdown",
   "id": "02793270",
   "metadata": {},
   "source": [
    "# Stack using List"
   ]
  },
  {
   "cell_type": "code",
   "execution_count": 11,
   "id": "805c7885",
   "metadata": {},
   "outputs": [
    {
     "name": "stdout",
     "output_type": "stream",
     "text": [
      "Initial stack: []\n",
      "Elements after push: ['a', 'b', 'c']\n",
      "Elements popped from stack:\n",
      "c\n",
      "b\n",
      "a\n",
      "Stack after elements are popped: []\n"
     ]
    }
   ],
   "source": [
    "stack = []\n",
    "\n",
    "print('Initial stack:', stack)\n",
    "\n",
    "stack.append('a')\n",
    "stack.append('b')\n",
    "stack.append('c')\n",
    "\n",
    "print('Elements after push:', stack)\n",
    "\n",
    "print('Elements popped from stack:')\n",
    "print(stack.pop())\n",
    "print(stack.pop())\n",
    "print(stack.pop())\n",
    "\n",
    "print('Stack after elements are popped:', stack)\n",
    "\n"
   ]
  },
  {
   "cell_type": "markdown",
   "id": "5ccf5917",
   "metadata": {},
   "source": [
    "# Stack using Collections module"
   ]
  },
  {
   "cell_type": "code",
   "execution_count": 16,
   "id": "62a1ea49",
   "metadata": {},
   "outputs": [
    {
     "name": "stdout",
     "output_type": "stream",
     "text": [
      "Initial stack: deque([])\n",
      "Elements After Push: deque(['a', 'b', 'c'])\n",
      "Elements popped from stack:\n",
      "c\n",
      "b\n",
      "a\n",
      "Stack after elements are popped: deque([])\n"
     ]
    }
   ],
   "source": [
    "from collections import deque\n",
    "\n",
    "stack = deque()\n",
    "\n",
    "print('Initial stack:', stack)\n",
    "\n",
    "stack.append('a')\n",
    "stack.append('b')\n",
    "stack.append('c')\n",
    "\n",
    "print('Elements After Push:', stack)\n",
    "\n",
    "\n",
    "print('Elements popped from stack:')\n",
    "print(stack.pop())\n",
    "print(stack.pop())\n",
    "print(stack.pop())\n",
    "\n",
    "print('Stack after elements are popped:', stack)\n"
   ]
  },
  {
   "cell_type": "markdown",
   "id": "274197bb",
   "metadata": {},
   "source": [
    "# Stack using queue module"
   ]
  },
  {
   "cell_type": "code",
   "execution_count": 22,
   "id": "be361cfe",
   "metadata": {},
   "outputs": [
    {
     "name": "stdout",
     "output_type": "stream",
     "text": [
      "Stack Size: 0\n",
      "Full:  True\n",
      "Stack Size:  3\n",
      "Elements popped from the stack\n",
      "c\n",
      "b\n",
      "a\n",
      "Empty:  True\n"
     ]
    }
   ],
   "source": [
    "from queue import LifoQueue\n",
    "\n",
    "stack = LifoQueue(maxsize=3)\n",
    "\n",
    "print(\"Stack Size:\", stack.qsize())\n",
    "\n",
    "stack.put('a')\n",
    "stack.put('b')\n",
    "stack.put('c')\n",
    "\n",
    "print(\"Full: \", stack.full())\n",
    "print(\"Stack Size: \", stack.qsize())\n",
    "\n",
    "print('Elements popped from the stack')\n",
    "print(stack.get())\n",
    "print(stack.get())\n",
    "print(stack.get())\n",
    "\n",
    "print(\"Empty: \", stack.empty())\n"
   ]
  },
  {
   "cell_type": "markdown",
   "id": "5a1f3dd6",
   "metadata": {},
   "source": [
    "# The Stack"
   ]
  },
  {
   "cell_type": "code",
   "execution_count": 33,
   "id": "37aa52fd",
   "metadata": {},
   "outputs": [
    {
     "name": "stdout",
     "output_type": "stream",
     "text": [
      "Elements Before Push: \n",
      "[]\n",
      "Elements After Push: \n",
      "['a', 'b']\n",
      "Popping Elements: \n",
      "Popped element is :  b\n",
      "Popped element is :  a\n",
      "Elements After Pop: \n",
      "[]\n"
     ]
    }
   ],
   "source": [
    "class Stack:\n",
    "    def __init__(self, limit = 5):\n",
    "        self.stk = []\n",
    "        self.limit = limit\n",
    "\n",
    "    def isStackEmpty(self):\n",
    "        return len(self.stk) <= 0\n",
    "\n",
    "    def isStackFull(self):\n",
    "        return len(self.stk) == self.limit\n",
    "\n",
    "    def peek(self):\n",
    "        if self.isStackEmpty() :\n",
    "            print(\"Stack is Empty\\n\")\n",
    "            return\n",
    "        else:\n",
    "            return print(\"Peek element is : \", self.stk[-1])\n",
    "\n",
    "    def size(self):\n",
    "        return print(\"Size of Stack is : \", len(self.stk))\n",
    "\n",
    "    def push(self, item):\n",
    "        if self.isStackFull():\n",
    "            print(\"Stack Overflow\\n\")\n",
    "            return\n",
    "        else:\n",
    "            self.stk.append(item)\n",
    "\n",
    "    def pop(self):\n",
    "        if self.isStackEmpty():\n",
    "            print(\"Stack Underflow\\n\")\n",
    "            return\n",
    "        else:\n",
    "            return print(\"Popped element is : \", self.stk.pop())\n",
    "\n",
    "    def display(self):\n",
    "        if self.isStackEmpty():\n",
    "            print(self.stk)\n",
    "            return\n",
    "        else:\n",
    "            print(self.stk)\n",
    "        return\n",
    "\n",
    "s = Stack(3)\n",
    "print(\"Elements Before Push: \")\n",
    "s.display()\n",
    "s.push('a')\n",
    "s.push('b')\n",
    "print(\"Elements After Push: \")\n",
    "s.display()\n",
    "print(\"Popping Elements: \")\n",
    "s.pop()\n",
    "s.pop()\n",
    "print(\"Elements After Pop: \")\n",
    "s.display()\n",
    "\n"
   ]
  },
  {
   "cell_type": "markdown",
   "id": "33ed64f4",
   "metadata": {},
   "source": [
    "# Stack Using Linked List"
   ]
  },
  {
   "cell_type": "code",
   "execution_count": 42,
   "id": "0c58befb",
   "metadata": {},
   "outputs": [
    {
     "name": "stdout",
     "output_type": "stream",
     "text": [
      "Elements Before Push: Stack is empty\n",
      "Elements After Push: \n",
      "b  \n",
      "a  \n",
      "Popping Elements: \n",
      "popped element is :  b\n",
      "popped element is :  a\n",
      "Elements After Pop: \n",
      "Stack is empty\n"
     ]
    }
   ],
   "source": [
    "class Node:\n",
    "    def __init__(self,value):\n",
    "        self.data=value\n",
    "        self.next=None\n",
    "\n",
    "class Stack:\n",
    "    def __init__(self):\n",
    "        self.top = None\n",
    "\n",
    "    def isStackEmpty(self):\n",
    "        return self.top == None\n",
    "\n",
    "    def size(self):\n",
    "        if self.isStackEmpty():\n",
    "            return 0\n",
    "        count = 0\n",
    "        p = self.top\n",
    "        while p is not None:\n",
    "            count += 1\n",
    "            p = p.next\n",
    "        return count\n",
    "\n",
    "    def push(self, data):\n",
    "        temp = Node(data)\n",
    "        temp.next = self.top\n",
    "        self.top = temp\n",
    "\n",
    "    def pop(self):\n",
    "        if self.isStackEmpty():\n",
    "            print(\"Stack is Empty\")\n",
    "            return\n",
    "        popped = self.top.data\n",
    "        self.top = self.top.next\n",
    "        return print(\"popped element is : \", popped)\n",
    "\n",
    "    def peek(self):\n",
    "        if self.isStackEmpty():\n",
    "            print(\"Stack is Empty\")\n",
    "            return\n",
    "        return print(\"Element at the top is : \", self.top.data)\n",
    "\n",
    "\n",
    "    def display(self):\n",
    "        if self.isStackEmpty():\n",
    "            print(\"Stack is empty\")\n",
    "            return\n",
    "        else:\n",
    "            p = self.top\n",
    "            while p is not None:\n",
    "                print(p.data, \" \")\n",
    "                p = p.next\n",
    "\n",
    "s = Stack()\n",
    "print(\"Elements Before Push: \",end=\"\")\n",
    "s.display()\n",
    "s.push('a')\n",
    "s.push('b')\n",
    "print(\"Elements After Push: \")\n",
    "s.display()\n",
    "print(\"Popping Elements: \")\n",
    "s.pop()\n",
    "s.pop()\n",
    "print(\"Elements After Pop: \")\n",
    "s.display()"
   ]
  },
  {
   "cell_type": "code",
   "execution_count": null,
   "id": "9731cac8",
   "metadata": {},
   "outputs": [],
   "source": []
  }
 ],
 "metadata": {
  "kernelspec": {
   "display_name": "Python 3 (ipykernel)",
   "language": "python",
   "name": "python3"
  },
  "language_info": {
   "codemirror_mode": {
    "name": "ipython",
    "version": 3
   },
   "file_extension": ".py",
   "mimetype": "text/x-python",
   "name": "python",
   "nbconvert_exporter": "python",
   "pygments_lexer": "ipython3",
   "version": "3.10.4"
  }
 },
 "nbformat": 4,
 "nbformat_minor": 5
}
