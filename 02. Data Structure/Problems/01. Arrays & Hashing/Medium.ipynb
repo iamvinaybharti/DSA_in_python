{
 "cells": [
  {
   "cell_type": "markdown",
   "id": "d24ea13f",
   "metadata": {},
   "source": [
    "<h1 style=\"color:green;\"> 1. (49. Group Anagrams) </h1>"
   ]
  },
  {
   "cell_type": "code",
   "execution_count": 7,
   "id": "f358d71f",
   "metadata": {},
   "outputs": [
    {
     "data": {
      "text/plain": [
       "dict_values([['eat', 'tea', 'ate'], ['tan', 'nat'], ['bat']])"
      ]
     },
     "execution_count": 7,
     "metadata": {},
     "output_type": "execute_result"
    }
   ],
   "source": [
    "\"\"\"\n",
    "Given an array of strings strs, group the anagrams together. You can return the answer in any order.\n",
    "\n",
    "An Anagram is a word or phrase formed by rearranging the letters of a different word or phrase, typically using all the original letters exactly once.\n",
    "\n",
    " \n",
    "\n",
    "Example 1:\n",
    "\n",
    "Input: strs = [\"eat\",\"tea\",\"tan\",\"ate\",\"nat\",\"bat\"]\n",
    "Output: [[\"bat\"],[\"nat\",\"tan\"],[\"ate\",\"eat\",\"tea\"]]\n",
    "\"\"\"\n",
    "\n",
    "from collections import defaultdict\n",
    "class Solution:\n",
    "    def groupAnagrams(self, strs: List[str]) -> List[List[str]]:\n",
    "        res = defaultdict(list)\n",
    "        \n",
    "        for s in strs:\n",
    "            count = [0] * 26\n",
    "            \n",
    "            for c in s:\n",
    "                count[ord(c) - ord(\"a\")] += 1\n",
    "                \n",
    "            res[tuple(count)].append(s)\n",
    "            \n",
    "        return res.values()\n",
    "strs = [\"eat\",\"tea\",\"tan\",\"ate\",\"nat\",\"bat\"]\n",
    "s = Solution()\n",
    "s.groupAnagrams(strs)"
   ]
  },
  {
   "cell_type": "markdown",
   "id": "d3a284a1",
   "metadata": {},
   "source": [
    "<h1 style=\"color:green;\"> 2. (347. Top K Frequent Elements) </h1>"
   ]
  },
  {
   "cell_type": "code",
   "execution_count": 8,
   "id": "333883f0",
   "metadata": {},
   "outputs": [
    {
     "data": {
      "text/plain": [
       "[1, 2]"
      ]
     },
     "execution_count": 8,
     "metadata": {},
     "output_type": "execute_result"
    }
   ],
   "source": [
    "\"\"\"\n",
    "Given an integer array nums and an integer k, return the k most frequent elements. You may return the answer in any order.\n",
    "\n",
    " \n",
    "\n",
    "Example 1:\n",
    "\n",
    "Input: nums = [1,1,1,2,2,3], k = 2\n",
    "Output: [1,2]\n",
    "\"\"\"\n",
    "\n",
    "class Solution:\n",
    "    def topKFrequent(self, nums: List[int], k: int) -> List[int]:\n",
    "        count = {}\n",
    "        freq = [[] for i in range(len(nums)+1)]\n",
    "        \n",
    "        for n in nums:\n",
    "            count[n] = 1 + count.get(n, 0)\n",
    "        for n, c in count.items():\n",
    "            freq[c].append(n)\n",
    "            \n",
    "        res = []\n",
    "        for i in range(len(freq)-1, 0, -1):\n",
    "            for n in freq[i]:\n",
    "                res.append(n)\n",
    "                if len(res) == k:\n",
    "                    return res\n",
    "        \n",
    "nums = [1,1,1,2,2,3]\n",
    "k = 2\n",
    "s = Solution()\n",
    "s.topKFrequent(nums, k)"
   ]
  },
  {
   "cell_type": "markdown",
   "id": "02ccef7a",
   "metadata": {},
   "source": [
    "<h1 style=\"color:green;\"> 3. (238. Product of Array Except Self) </h1>"
   ]
  },
  {
   "cell_type": "code",
   "execution_count": null,
   "id": "fa3d62ff",
   "metadata": {},
   "outputs": [],
   "source": [
    "\"\"\"\n",
    "Given an integer array nums, return an array answer such that answer[i] is equal to the product of all the elements of nums except nums[i].\n",
    "\n",
    "The product of any prefix or suffix of nums is guaranteed to fit in a 32-bit integer.\n",
    "\n",
    "You must write an algorithm that runs in O(n) time and without using the division operation.\n",
    "\n",
    " \n",
    "\n",
    "Example 1:\n",
    "\n",
    "Input: nums = [1,2,3,4]\n",
    "Output: [24,12,8,6]\n",
    "\"\"\"\n",
    "\n",
    "class Solution:\n",
    "    def productExceptSelf(self, nums: List[int]) -> List[int]:\n",
    "        res = [1] * len(nums)\n",
    "        prefix = 1\n",
    "        for i in range(len(nums)):\n",
    "            res[i] = prefix\n",
    "            prefix *= nums[i]\n",
    "        postfix = 1\n",
    "        for i in range(len(nums)-1, -1, -1):\n",
    "            res[i] *= postfix\n",
    "            postfix *= nums[i]\n",
    "        return res"
   ]
  },
  {
   "cell_type": "markdown",
   "id": "1c167b67",
   "metadata": {},
   "source": [
    "# 4. Valid Sudoku"
   ]
  },
  {
   "cell_type": "markdown",
   "id": "16e7c5be",
   "metadata": {},
   "source": [
    "<h1 style=\"color:green;\"> 5. (659. Encode and Decode Strings) </h1>"
   ]
  },
  {
   "cell_type": "code",
   "execution_count": 3,
   "id": "5d68fd7c",
   "metadata": {},
   "outputs": [
    {
     "name": "stdout",
     "output_type": "stream",
     "text": [
      "4#lint4#code4#love3#you\n"
     ]
    },
    {
     "data": {
      "text/plain": [
       "['lint', 'code', 'love', 'you']"
      ]
     },
     "execution_count": 3,
     "metadata": {},
     "output_type": "execute_result"
    }
   ],
   "source": [
    "\"\"\"\n",
    "Design an algorithm to encode a list of strings to a string. The encoded string is then sent over the network and is \n",
    "decoded back to the original list of strings.\n",
    "\n",
    "Example 1:\n",
    "Input: [\"lint\",\"code\",\"love\",\"you\"]\n",
    "Output: [\"lint\",\"code\",\"love\",\"you\"]\n",
    "Explanation:\n",
    "One possible encode method is: \"lint:;code:;love:;you\"\n",
    "\"\"\"\n",
    "\n",
    "class Solution:\n",
    "\n",
    "    def encode(self, strs):\n",
    "        res = \"\"\n",
    "        for s in strs:\n",
    "            res += str(len(s)) + \"#\" + s\n",
    "        return res\n",
    "\n",
    "    def decode(self, str):\n",
    "        res = []\n",
    "        i = 0\n",
    "        while i < len(str):\n",
    "            j = i\n",
    "            while str[j] != \"#\":\n",
    "                j += 1\n",
    "            length = int( str[i:j])\n",
    "            res.append(str[j + 1: j + 1+ length])\n",
    "            i = j + 1 + length\n",
    "        return res\n",
    "        \n",
    "        \n",
    "s = Solution()\n",
    "encoded = s.encode([\"lint\",\"code\",\"love\",\"you\"])\n",
    "print(encoded)\n",
    "s.decode(encoded)"
   ]
  },
  {
   "cell_type": "markdown",
   "id": "b73931e7",
   "metadata": {},
   "source": [
    "<h1 style=\"color:green;\"> 6. (128. Longest Consecutive Sequence) </h1>"
   ]
  },
  {
   "cell_type": "code",
   "execution_count": null,
   "id": "2fe8c864",
   "metadata": {},
   "outputs": [],
   "source": [
    "\"\"\"\n",
    "Given an unsorted array of integers nums, return the length of the longest consecutive elements sequence.\n",
    "\n",
    "You must write an algorithm that runs in O(n) time.\n",
    "\n",
    " \n",
    "\n",
    "Example 1:\n",
    "\n",
    "Input: nums = [100,4,200,1,3,2]\n",
    "Output: 4\n",
    "Explanation: The longest consecutive elements sequence is [1, 2, 3, 4]. Therefore its length is 4.\n",
    "\"\"\"\n",
    "\n",
    "class Solution:\n",
    "    def longestConsecutive(self, nums: List[int]) -> int:\n",
    "        numSet = set(nums)\n",
    "        longest = 0\n",
    "        for n in nums:\n",
    "            if (n-1) not in numSet:\n",
    "                length = 0\n",
    "                while (n+length) in numSet:\n",
    "                    length += 1\n",
    "                longest = max(length, longest)\n",
    "                \n",
    "        return longest"
   ]
  },
  {
   "cell_type": "markdown",
   "id": "f4013190",
   "metadata": {},
   "source": [
    "# 7. (2149. Rearrange Array Elements by Sign)"
   ]
  },
  {
   "cell_type": "code",
   "execution_count": 9,
   "id": "9f474cc2",
   "metadata": {},
   "outputs": [],
   "source": [
    "\"\"\"\n",
    "You are given a 0-indexed integer array nums of even length consisting of an equal number of positive and negative integers.\n",
    "\n",
    "You should rearrange the elements of nums such that the modified array follows the given conditions:\n",
    "\n",
    "Every consecutive pair of integers have opposite signs.\n",
    "For all integers with the same sign, the order in which they were present in nums is preserved.\n",
    "The rearranged array begins with a positive integer.\n",
    "Return the modified array after rearranging the elements to satisfy the aforementioned conditions.\n",
    "\n",
    " \n",
    "\n",
    "Example 1:\n",
    "\n",
    "Input: nums = [3,1,-2,-5,2,-4]\n",
    "Output: [3,-2,1,-5,2,-4]\n",
    "Explanation:\n",
    "The positive integers in nums are [3,1,2]. The negative integers are [-2,-5,-4].\n",
    "The only possible way to rearrange them such that they satisfy all conditions is [3,-2,1,-5,2,-4].\n",
    "Other ways such as [1,-2,2,-5,3,-4], [3,1,2,-2,-5,-4], [-2,3,-5,1,-4,2] are incorrect because they do not satisfy one or more conditions.  \n",
    "\"\"\"\n",
    "\n",
    "\"\"\"\n",
    "solution : if number is positive then place it to even index(i=0,2,4...) else place it to odd index(i=1,3,5...)\n",
    "\"\"\"\n",
    "\n",
    "class Solution:\n",
    "    def rearrangeArray(self, nums: List[int]) -> List[int]:\n",
    "        a=[0]*len(nums)\n",
    "        p=0\n",
    "        n=1\n",
    "        for i in nums:\n",
    "            if i>0:\n",
    "                a[p]=i\n",
    "                p+=2\n",
    "            else:\n",
    "                a[n]=i\n",
    "                n+=2\n",
    "        return a"
   ]
  },
  {
   "cell_type": "markdown",
   "id": "c599610e",
   "metadata": {},
   "source": [
    "# 8. (287. Find the Duplicate Number)"
   ]
  },
  {
   "cell_type": "code",
   "execution_count": null,
   "id": "9c27ab22",
   "metadata": {},
   "outputs": [],
   "source": [
    "\"\"\"\n",
    "Given an array of integers nums containing n + 1 integers where each integer is in the range [1, n] inclusive.\n",
    "\n",
    "There is only one repeated number in nums, return this repeated number.\n",
    "\n",
    "You must solve the problem without modifying the array nums and uses only constant extra space.\n",
    "\n",
    " \n",
    "\n",
    "Example 1:\n",
    "\n",
    "Input: nums = [1,3,4,2,2]\n",
    "Output: 2\n",
    "\"\"\"\n",
    "\n",
    "class Solution:\n",
    "    def findDuplicate(self, nums):\n",
    "        slow, fast = nums[0], nums[0]\n",
    "        while True:\n",
    "            slow, fast = nums[slow], nums[nums[fast]]\n",
    "            if slow == fast: \n",
    "                break\n",
    "                \n",
    "        slow = nums[0]\n",
    "        while slow != fast:\n",
    "            slow, fast = nums[slow], nums[fast]\n",
    "        return slow"
   ]
  },
  {
   "cell_type": "code",
   "execution_count": null,
   "id": "51808cc6",
   "metadata": {},
   "outputs": [],
   "source": []
  },
  {
   "cell_type": "code",
   "execution_count": null,
   "id": "2514132b",
   "metadata": {},
   "outputs": [],
   "source": []
  }
 ],
 "metadata": {
  "kernelspec": {
   "display_name": "Python 3 (ipykernel)",
   "language": "python",
   "name": "python3"
  },
  "language_info": {
   "codemirror_mode": {
    "name": "ipython",
    "version": 3
   },
   "file_extension": ".py",
   "mimetype": "text/x-python",
   "name": "python",
   "nbconvert_exporter": "python",
   "pygments_lexer": "ipython3",
   "version": "3.10.4"
  }
 },
 "nbformat": 4,
 "nbformat_minor": 5
}
