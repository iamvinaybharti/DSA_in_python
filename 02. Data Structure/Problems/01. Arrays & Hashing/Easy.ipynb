{
 "cells": [
  {
   "cell_type": "markdown",
   "id": "71f4517e",
   "metadata": {},
   "source": [
    "# <h1 style=\"color:green;\"> 1. (217. Contains Duplicate) </h1>"
   ]
  },
  {
   "cell_type": "code",
   "execution_count": 7,
   "id": "923a32a3",
   "metadata": {},
   "outputs": [
    {
     "data": {
      "text/plain": [
       "True"
      ]
     },
     "execution_count": 7,
     "metadata": {},
     "output_type": "execute_result"
    }
   ],
   "source": [
    "\"\"\"\n",
    "Given an integer array nums, return true if any value appears at least twice in the array, and return false if every element is distinct.\n",
    "\n",
    " \n",
    "\n",
    "Example 1:\n",
    "\n",
    "Input: nums = [1,2,3,1]\n",
    "Output: true\n",
    "\"\"\"\n",
    "\n",
    "\"\"\"\n",
    "Solution : scan & keep every element in hashmap if element already exist in hashmap then return true else keep on adding \n",
    "elements. if iteration is completed then return false because we didn't get the duplicate in hashmap.\n",
    "\"\"\"\n",
    "\n",
    "class Solution:\n",
    "    def containsDuplicate(self, nums: List[int]) -> bool:\n",
    "        hashmap = {}\n",
    "        for i,n in enumerate(nums):\n",
    "            if n not in hashmap:\n",
    "                hashmap[n] = i\n",
    "            else:\n",
    "                return True\n",
    "        return False\n",
    "    \n",
    "nums = [1,2,3,1]    \n",
    "s = Solution()\n",
    "s.containsDuplicate(nums)"
   ]
  },
  {
   "cell_type": "markdown",
   "id": "4d837f36",
   "metadata": {},
   "source": [
    "<h1 style=\"color:green;\"> 2. (242. Valid Anagram) </h1>"
   ]
  },
  {
   "cell_type": "code",
   "execution_count": 1,
   "id": "00485371",
   "metadata": {},
   "outputs": [
    {
     "data": {
      "text/plain": [
       "True"
      ]
     },
     "execution_count": 1,
     "metadata": {},
     "output_type": "execute_result"
    }
   ],
   "source": [
    "\"\"\"\n",
    "Given two strings s and t, return true if t is an anagram of s, and false otherwise.\n",
    "\n",
    "An Anagram is a word or phrase formed by rearranging the letters of a different word or phrase, typically using all the original letters exactly once.\n",
    "\n",
    "Example 1:\n",
    "\n",
    "Input: s = \"anagram\", t = \"nagaram\"\n",
    "Output: true\n",
    "\"\"\"\n",
    "\n",
    "class Solution(object):\n",
    "    def isAnagram(self, s:str, t:str) -> bool:\n",
    "        d = {}\n",
    "        for e in s:\n",
    "            if e in d:\n",
    "                d[e] += 1\n",
    "            else:\n",
    "                d[e] = 0\n",
    "        for e in t:\n",
    "            if e in d:\n",
    "                if d[e] == 0:\n",
    "                    del d[e]\n",
    "                else:\n",
    "                    d[e] -= 1\n",
    "            else:\n",
    "                return False\n",
    "        return False if d else True\n",
    "\n",
    "s1 = \"anagram\"\n",
    "t1 = \"nagaram\"\n",
    "s = Solution()\n",
    "s.isAnagram(s1, t1)\n",
    "#rks"
   ]
  },
  {
   "cell_type": "markdown",
   "id": "296dc810",
   "metadata": {},
   "source": [
    "<h1 style=\"color:green;\"> 3. (1. Two Sum) </h1>"
   ]
  },
  {
   "cell_type": "code",
   "execution_count": 3,
   "id": "45bef71e",
   "metadata": {},
   "outputs": [
    {
     "data": {
      "text/plain": [
       "[1, 3]"
      ]
     },
     "execution_count": 3,
     "metadata": {},
     "output_type": "execute_result"
    }
   ],
   "source": [
    "\"\"\"\n",
    "Given an array of integers nums and an integer target, return indices of the two numbers such that they add up to target.\n",
    "\n",
    "You may assume that each input would have exactly one solution, and you may not use the same element twice.\n",
    "\n",
    "You can return the answer in any order.\n",
    "\n",
    " \n",
    "\n",
    "Example 1:\n",
    "\n",
    "Input: nums = [2,7,11,15], target = 9\n",
    "Output: [0,1]\n",
    "Explanation: Because nums[0] + nums[1] == 9, we return [0, 1].\n",
    "\"\"\"\n",
    "class Solution:\n",
    "    def twoSum(self, nums: list[int], target : int) -> list[int]:\n",
    "        prevMap = {}\n",
    "        \n",
    "        for i, n in enumerate(nums):\n",
    "            diff = target - n\n",
    "            if diff in prevMap:\n",
    "                return [prevMap[diff], i]\n",
    "            prevMap[n] = i\n",
    "        return\n",
    "\n",
    "a = [2,1,5,3]\n",
    "target = 4\n",
    "s = Solution()\n",
    "s.twoSum(a, target)"
   ]
  },
  {
   "cell_type": "code",
   "execution_count": 5,
   "id": "1cf92224",
   "metadata": {},
   "outputs": [],
   "source": []
  }
 ],
 "metadata": {
  "kernelspec": {
   "display_name": "Python 3 (ipykernel)",
   "language": "python",
   "name": "python3"
  },
  "language_info": {
   "codemirror_mode": {
    "name": "ipython",
    "version": 3
   },
   "file_extension": ".py",
   "mimetype": "text/x-python",
   "name": "python",
   "nbconvert_exporter": "python",
   "pygments_lexer": "ipython3",
   "version": "3.10.4"
  }
 },
 "nbformat": 4,
 "nbformat_minor": 5
}
