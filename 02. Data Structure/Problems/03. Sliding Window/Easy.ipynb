{
 "cells": [
  {
   "cell_type": "markdown",
   "id": "60e0f3eb",
   "metadata": {},
   "source": [
    "<h1 style=\"color:green;\"> 1. (121. Best Time to Buy and Sell Stock) </h1>"
   ]
  },
  {
   "cell_type": "code",
   "execution_count": 1,
   "id": "04376482",
   "metadata": {},
   "outputs": [
    {
     "data": {
      "text/plain": [
       "4"
      ]
     },
     "execution_count": 1,
     "metadata": {},
     "output_type": "execute_result"
    }
   ],
   "source": [
    "\"\"\"\n",
    "You are given an array prices where prices[i] is the price of a given stock on the ith day.\n",
    "\n",
    "You want to maximize your profit by choosing a single day to buy one stock and choosing a different day in the future to sell that stock.\n",
    "\n",
    "Return the maximum profit you can achieve from this transaction. If you cannot achieve any profit, return 0.\n",
    "\n",
    " \n",
    "\n",
    "Example 1:\n",
    "\n",
    "Input: prices = [7,1,5,3,6,4]\n",
    "Output: 5\n",
    "Explanation: Buy on day 2 (price = 1) and sell on day 5 (price = 6), profit = 6-1 = 5.\n",
    "Note that buying on day 2 and selling on day 1 is not allowed because you must buy before you sell.\n",
    "\"\"\"\n",
    "\n",
    "class Solution:\n",
    "    def maxProfit(self, a: list[int]) -> int:\n",
    "        buy = a[0]\n",
    "        flag = False\n",
    "        profit = 0\n",
    "        for i in range(len(a)):\n",
    "            if a[i] <= buy and i < len(a)-1:\n",
    "                buy = a[i]\n",
    "                sell = a[i]\n",
    "                flag = True\n",
    "            if flag:\n",
    "                if a[i] > sell:\n",
    "                    sell = a[i]\n",
    "                if sell-buy > profit:\n",
    "                    profit = sell-buy\n",
    "        if not flag:\n",
    "            return 0\n",
    "        return profit\n",
    "                \n",
    "        \n",
    "prices = [3,2,6,5,0,3]\n",
    "\n",
    "s = Solution()\n",
    "s.maxProfit(prices)"
   ]
  },
  {
   "cell_type": "code",
   "execution_count": null,
   "id": "faf1e59f",
   "metadata": {},
   "outputs": [],
   "source": []
  }
 ],
 "metadata": {
  "kernelspec": {
   "display_name": "Python 3 (ipykernel)",
   "language": "python",
   "name": "python3"
  },
  "language_info": {
   "codemirror_mode": {
    "name": "ipython",
    "version": 3
   },
   "file_extension": ".py",
   "mimetype": "text/x-python",
   "name": "python",
   "nbconvert_exporter": "python",
   "pygments_lexer": "ipython3",
   "version": "3.10.4"
  }
 },
 "nbformat": 4,
 "nbformat_minor": 5
}
