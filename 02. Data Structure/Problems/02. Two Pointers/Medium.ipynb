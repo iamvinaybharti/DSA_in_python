{
 "cells": [
  {
   "cell_type": "markdown",
   "id": "8e464012",
   "metadata": {},
   "source": [
    "# <h1 style=\"color:yellow;\"> 1. (167. Two Sum II - Input Array Is Sorted) </h1>"
   ]
  },
  {
   "cell_type": "code",
   "execution_count": 1,
   "id": "0995fbfa",
   "metadata": {},
   "outputs": [
    {
     "data": {
      "text/plain": [
       "[1, 3]"
      ]
     },
     "execution_count": 1,
     "metadata": {},
     "output_type": "execute_result"
    }
   ],
   "source": [
    "\"\"\"\n",
    "Given a 1-indexed array of integers numbers that is already sorted in non-decreasing order, find two numbers such that they add up to a specific target number. Let these two numbers be numbers[index1] and numbers[index2] where 1 <= index1 < index2 <= numbers.length.\n",
    "\n",
    "Return the indices of the two numbers, index1 and index2, added by one as an integer array [index1, index2] of length 2.\n",
    "\n",
    "The tests are generated such that there is exactly one solution. You may not use the same element twice.\n",
    "\n",
    "Your solution must use only constant extra space.\n",
    "\n",
    " \n",
    "\n",
    "Example 1:\n",
    "\n",
    "Input: numbers = [2,7,11,15], target = 9\n",
    "Output: [1,2]\n",
    "Explanation: The sum of 2 and 7 is 9. Therefore, index1 = 1, index2 = 2. We return [1, 2].\n",
    "\"\"\"\n",
    "\n",
    "class Solution:\n",
    "    def twoSum(self, a:list[int], target:int)-> list[int]:\n",
    "        left  = 0\n",
    "        right = len(a)-1\n",
    "        while left < right:\n",
    "            curSum = a[left] + a[right]\n",
    "            if curSum > target:\n",
    "                right -= 1\n",
    "            elif curSum < target:\n",
    "                left += 1\n",
    "            else:\n",
    "                return [left+1, right+1]\n",
    "\n",
    "            \n",
    "a = [2,5,7,15]\n",
    "t = 9\n",
    "s = Solution()\n",
    "s.twoSum(a, 9)"
   ]
  },
  {
   "cell_type": "code",
   "execution_count": null,
   "id": "ad5da6da",
   "metadata": {},
   "outputs": [],
   "source": []
  }
 ],
 "metadata": {
  "kernelspec": {
   "display_name": "Python 3 (ipykernel)",
   "language": "python",
   "name": "python3"
  },
  "language_info": {
   "codemirror_mode": {
    "name": "ipython",
    "version": 3
   },
   "file_extension": ".py",
   "mimetype": "text/x-python",
   "name": "python",
   "nbconvert_exporter": "python",
   "pygments_lexer": "ipython3",
   "version": "3.10.4"
  }
 },
 "nbformat": 4,
 "nbformat_minor": 5
}
